{
  "cells": [
    {
      "cell_type": "code",
      "source": [
        "from azureml.core import Workspace\n",
        "\n",
        "ws = Workspace.from_config()\n",
        "print(\"✅ Azure ML Workspace Loaded:\", ws.name)\n"
      ],
      "outputs": [
        {
          "output_type": "stream",
          "name": "stdout",
          "text": "✅ Azure ML Workspace Loaded: mlops-simple-flow\n"
        }
      ],
      "execution_count": 3,
      "metadata": {
        "gather": {
          "logged": 1738423386747
        }
      }
    },
    {
      "cell_type": "code",
      "source": [
        "from azureml.core.model import Model\n",
        "\n",
        "model = Model.register(\n",
        "    workspace=ws,\n",
        "    model_name=\"catboost-thrombosis-predictor\",\n",
        "    model_path=\"catboost_model.cbm\",  # Path to your model file\n",
        "    description=\"CatBoost model for predicting thrombotic events\",\n",
        ")\n",
        "\n",
        "print(\"✅ Model registered successfully!\")\n"
      ],
      "outputs": [
        {
          "output_type": "stream",
          "name": "stdout",
          "text": "Registering model catboost-thrombosis-predictor\n✅ Model registered successfully!\n"
        }
      ],
      "execution_count": 4,
      "metadata": {
        "gather": {
          "logged": 1738423389882
        }
      }
    },
    {
      "cell_type": "code",
      "source": [
        "env_yaml = \"\"\"name: catboost-env\n",
        "dependencies:\n",
        "  - python=3.8\n",
        "  - pip:\n",
        "    - azureml-defaults\n",
        "    - catboost\n",
        "    - joblib\n",
        "    - numpy\n",
        "    - pandas\n",
        "\"\"\"\n",
        "with open(\"environment.yml\", \"w\") as f:\n",
        "    f.write(env_yaml)\n",
        "\n",
        "print(\"✅ environment.yml created successfully!\")\n"
      ],
      "outputs": [
        {
          "output_type": "stream",
          "name": "stdout",
          "text": "✅ environment.yml created successfully!\n"
        }
      ],
      "execution_count": 3,
      "metadata": {
        "gather": {
          "logged": 1738422949014
        }
      }
    },
    {
      "cell_type": "code",
      "source": [
        "from azureml.core import Environment\n",
        "\n",
        "env = Environment.from_conda_specification(name=\"catboost-env\", file_path=\"environment.yml\")\n",
        "env.register(workspace=ws)\n",
        "\n",
        "print(\"✅ Environment registered successfully!\")\n"
      ],
      "outputs": [
        {
          "output_type": "stream",
          "name": "stdout",
          "text": "✅ Environment registered successfully!\n"
        }
      ],
      "execution_count": 5,
      "metadata": {
        "gather": {
          "logged": 1738423402112
        }
      }
    },
    {
      "cell_type": "code",
      "source": [
        "score_script = \"\"\"import json\n",
        "import numpy as np\n",
        "import pandas as pd\n",
        "import joblib\n",
        "from azureml.core.model import Model\n",
        "from catboost import CatBoostClassifier\n",
        "\n",
        "def init():\n",
        "    global model\n",
        "    model_path = Model.get_model_path(\"catboost-thrombosis-predictor\")\n",
        "    model = CatBoostClassifier()\n",
        "    model.load_model(model_path)\n",
        "\n",
        "def run(raw_data):\n",
        "    try:\n",
        "        data = json.loads(raw_data)[\"data\"]\n",
        "        df = pd.DataFrame(data)\n",
        "        \n",
        "        # Convert categorical features to int if necessary\n",
        "        categorical_features = [\"gender\", \"work_type\", \"Residence_type\", \"smoking_status\"]\n",
        "        for col in categorical_features:\n",
        "            if col in df.columns:\n",
        "                df[col] = df[col].astype(str).astype(\"category\")\n",
        "\n",
        "        predictions = model.predict(df)\n",
        "        return {\"predictions\": predictions.tolist()}\n",
        "    except Exception as e:\n",
        "        return {\"error\": str(e)}\n",
        "\"\"\"\n",
        "\n",
        "with open(\"score.py\", \"w\") as f:\n",
        "    f.write(score_script)\n",
        "\n",
        "print(\"✅ score.py created successfully!\")\n"
      ],
      "outputs": [
        {
          "output_type": "stream",
          "name": "stdout",
          "text": "✅ score.py created successfully!\n"
        }
      ],
      "execution_count": 5,
      "metadata": {
        "gather": {
          "logged": 1738422957921
        }
      }
    },
    {
      "cell_type": "code",
      "source": [
        "from azureml.core.model import InferenceConfig\n",
        "from azureml.core.webservice import AciWebservice, Webservice\n",
        "\n",
        "# Define inference configuration\n",
        "inference_config = InferenceConfig(\n",
        "    entry_script=\"score.py\",  # The script handling inference requests\n",
        "    environment=env\n",
        ")\n",
        "\n",
        "# Define ACI deployment configuration\n",
        "aci_config = AciWebservice.deploy_configuration(cpu_cores=1, memory_gb=1)\n",
        "\n",
        "# Deploy the model\n",
        "service_name = \"catboost-endpoint\"\n",
        "service = Model.deploy(\n",
        "    workspace=ws,\n",
        "    name=service_name,\n",
        "    models=[model],\n",
        "    inference_config=inference_config,\n",
        "    deployment_config=aci_config\n",
        ")\n",
        "\n",
        "service.wait_for_deployment(show_output=True)\n",
        "print(f\"✅ Model deployed successfully! Endpoint URL: {service.scoring_uri}\")\n"
      ],
      "outputs": [
        {
          "output_type": "stream",
          "name": "stderr",
          "text": "/tmp/ipykernel_5655/1950278768.py:15: FutureWarning: azureml.core.model:\nTo leverage new model deployment capabilities, AzureML recommends using CLI/SDK v2 to deploy models as online endpoint, \nplease refer to respective documentations \nhttps://docs.microsoft.com/azure/machine-learning/how-to-deploy-managed-online-endpoints /\nhttps://docs.microsoft.com/azure/machine-learning/how-to-attach-kubernetes-anywhere \nFor more information on migration, see https://aka.ms/acimoemigration \nTo disable CLI/SDK v1 deprecation warning set AZUREML_LOG_DEPRECATION_WARNING_ENABLED to 'False'\n  service = Model.deploy(\n"
        },
        {
          "output_type": "stream",
          "name": "stdout",
          "text": "Tips: You can try get_logs(): https://aka.ms/debugimage#dockerlog or local deployment: https://aka.ms/debugimage#debug-locally to debug if deployment takes longer than 10 minutes.\nRunning\n2025-02-01 15:24:01+00:00 Creating Container Registry if not exists.\n2025-02-01 15:24:02+00:00 Building image..\n2025-02-01 15:33:01+00:00 Generating deployment configuration.\n2025-02-01 15:33:02+00:00 Submitting deployment to compute..\n2025-02-01 15:33:09+00:00 Checking the status of deployment catboost-endpoint..\n2025-02-01 15:34:45+00:00 Checking the status of inference endpoint catboost-endpoint.\nSucceeded\nACI service creation operation finished, operation \"Succeeded\"\n✅ Model deployed successfully! Endpoint URL: http://57c1d30e-f22e-414a-811a-0c6f2e757de0.westeurope.azurecontainer.io/score\n"
        }
      ],
      "execution_count": 7,
      "metadata": {
        "gather": {
          "logged": 1738424091887
        }
      }
    },
    {
      "cell_type": "code",
      "source": [
        "from azureml.core import Workspace, Model, Environment\n",
        "from azureml.core.webservice import AciWebservice\n",
        "from azureml.core.model import InferenceConfig\n",
        "\n",
        "# ✅ Load Azure ML workspace\n",
        "ws = Workspace.from_config()\n",
        "\n",
        "# ✅ Load the correct environment (Fixes the issue)\n",
        "env = Environment.get(workspace=ws, name=\"catboost-env\")\n",
        "\n",
        "# ✅ Define inference configuration (Using the correct environment object)\n",
        "inference_config = InferenceConfig(\n",
        "    entry_script=\"score.py\",\n",
        "    environment=env  # ✅ Corrected\n",
        ")\n",
        "\n",
        "# ✅ Define deployment configuration\n",
        "aci_config = AciWebservice.deploy_configuration(cpu_cores=1, memory_gb=1)\n",
        "\n",
        "# ✅ Deploy the model\n",
        "service = Model.deploy(\n",
        "    workspace=ws,\n",
        "    name=\"catboost-endpoint\",\n",
        "    models=[Model(ws, \"catboost-thrombosis-predictor\")],\n",
        "    inference_config=inference_config,\n",
        "    deployment_config=aci_config\n",
        ")\n",
        "\n",
        "# ✅ Wait for deployment to complete\n",
        "service.wait_for_deployment(show_output=True)\n",
        "\n",
        "# ✅ Print the endpoint URL\n",
        "print(f\"✅ Model deployed successfully! Endpoint URL: {service.scoring_uri}\")\n"
      ],
      "outputs": [
        {
          "output_type": "stream",
          "name": "stderr",
          "text": "/tmp/ipykernel_5655/1865427786.py:21: FutureWarning: azureml.core.model:\nTo leverage new model deployment capabilities, AzureML recommends using CLI/SDK v2 to deploy models as online endpoint, \nplease refer to respective documentations \nhttps://docs.microsoft.com/azure/machine-learning/how-to-deploy-managed-online-endpoints /\nhttps://docs.microsoft.com/azure/machine-learning/how-to-attach-kubernetes-anywhere \nFor more information on migration, see https://aka.ms/acimoemigration \nTo disable CLI/SDK v1 deprecation warning set AZUREML_LOG_DEPRECATION_WARNING_ENABLED to 'False'\n  service = Model.deploy(\n"
        },
        {
          "output_type": "stream",
          "name": "stdout",
          "text": "Tips: You can try get_logs(): https://aka.ms/debugimage#dockerlog or local deployment: https://aka.ms/debugimage#debug-locally to debug if deployment takes longer than 10 minutes.\nRunning\n2025-02-01 16:19:13+00:00 Creating Container Registry if not exists.\n2025-02-01 16:19:14+00:00 Use the existing image.\n2025-02-01 16:19:14+00:00 Generating deployment configuration.\n2025-02-01 16:19:16+00:00 Submitting deployment to compute.\n2025-02-01 16:19:22+00:00 Checking the status of deployment catboost-endpoint..\n2025-02-01 16:20:48+00:00 Checking the status of inference endpoint catboost-endpoint.\nSucceeded\nACI service creation operation finished, operation \"Succeeded\"\n✅ Model deployed successfully! Endpoint URL: http://a4258b93-e2e4-429e-b794-1da10226599d.westeurope.azurecontainer.io/score\n"
        }
      ],
      "execution_count": 14,
      "metadata": {
        "gather": {
          "logged": 1738426853752
        }
      }
    },
    {
      "cell_type": "code",
      "source": [],
      "outputs": [],
      "execution_count": null,
      "metadata": {}
    },
    {
      "cell_type": "code",
      "source": [
        "# Replace with actual endpoint\n",
        "endpoint = service.scoring_uri\n",
        "print(endpoint)"
      ],
      "outputs": [
        {
          "output_type": "stream",
          "name": "stdout",
          "text": "http://a4258b93-e2e4-429e-b794-1da10226599d.westeurope.azurecontainer.io/score\n"
        }
      ],
      "execution_count": 15,
      "metadata": {
        "gather": {
          "logged": 1738427069814
        }
      }
    },
    {
      "cell_type": "code",
      "source": [
        "import requests\n",
        "import json\n",
        "\n",
        "# ✅ Replace with your actual endpoint\n",
        "endpoint = service.scoring_uri  \n",
        "\n",
        "# ✅ Ensure categorical features are **strings**\n",
        "test_data = {\n",
        "    \"data\": [\n",
        "        {\n",
        "            \"gender\": \"1\",  # ✅ Convert to string\n",
        "            \"age\": 60,  # ✅ Keep numeric features as float\n",
        "            \"hypertension\": \"1\",\n",
        "            \"heart_disease\": \"0\",\n",
        "            \"ever_married\": \"1\",\n",
        "            \"work_type\": \"2\",\n",
        "            \"Residence_type\": \"1\",\n",
        "            \"avg_glucose_level\": 85.6,\n",
        "            \"bmi\": 28.9,\n",
        "            \"smoking_status\": \"0\"\n",
        "        }\n",
        "    ]\n",
        "}\n",
        "\n",
        "headers = {\"Content-Type\": \"application/json\"}\n",
        "\n",
        "# ✅ Send request & get response\n",
        "response = requests.post(endpoint, data=json.dumps(test_data), headers=headers)\n",
        "print(\"🚀 Response from Model:\", response.json())\n"
      ],
      "outputs": [
        {
          "output_type": "stream",
          "name": "stdout",
          "text": "🚀 Response from Model: {'error': 'Invalid type for cat_feature[non-default value idx=0,feature_idx=0]=1.0 : cat_features must be integer or string, real number values and NaN values should be converted to string.'}\n"
        }
      ],
      "execution_count": 19,
      "metadata": {
        "gather": {
          "logged": 1738427160956
        }
      }
    },
    {
      "cell_type": "code",
      "source": [
        "# import requests\n",
        "# import json\n",
        "\n",
        "# endpoint = service.scoring_uri  \n",
        "\n",
        "# # Ensure the test data follows the model’s expected feature names & types\n",
        "# test_data = {\n",
        "#     \"data\": [\n",
        "#         {\n",
        "#             \"gender\": 1,\n",
        "#             \"age\": 60,\n",
        "#             \"hypertension\": 1,\n",
        "#             \"heart_disease\": 0,\n",
        "#             \"ever_married\": 1,\n",
        "#             \"work_type\": 2,\n",
        "#             \"Residence_type\": 1,\n",
        "#             \"avg_glucose_level\": 85.6,\n",
        "#             \"bmi\": 28.9,\n",
        "#             \"smoking_status\": 0\n",
        "#         }\n",
        "#     ]\n",
        "# }\n",
        "\n",
        "# headers = {\"Content-Type\": \"application/json\"}\n",
        "\n",
        "# # Send request & get response\n",
        "# response = requests.post(endpoint, data=json.dumps(test_data), headers=headers)\n",
        "# print(\"🚀 Response from Model:\", response.json())\n"
      ],
      "outputs": [
        {
          "output_type": "stream",
          "name": "stdout",
          "text": "🚀 Response from Model: {'error': 'Invalid type for cat_feature[non-default value idx=0,feature_idx=0]=1.0 : cat_features must be integer or string, real number values and NaN values should be converted to string.'}\n"
        }
      ],
      "execution_count": 17,
      "metadata": {
        "gather": {
          "logged": 1738427085704
        }
      }
    },
    {
      "cell_type": "code",
      "source": [],
      "outputs": [],
      "execution_count": null,
      "metadata": {}
    }
  ],
  "metadata": {
    "kernelspec": {
      "name": "python310-sdkv2",
      "language": "python",
      "display_name": "Python 3.10 - SDK v2"
    },
    "language_info": {
      "name": "python",
      "version": "3.10.14",
      "mimetype": "text/x-python",
      "codemirror_mode": {
        "name": "ipython",
        "version": 3
      },
      "pygments_lexer": "ipython3",
      "nbconvert_exporter": "python",
      "file_extension": ".py"
    },
    "microsoft": {
      "ms_spell_check": {
        "ms_spell_check_language": "en"
      },
      "host": {
        "AzureML": {
          "notebookHasBeenCompleted": true
        }
      }
    },
    "kernel_info": {
      "name": "python310-sdkv2"
    },
    "nteract": {
      "version": "nteract-front-end@1.0.0"
    }
  },
  "nbformat": 4,
  "nbformat_minor": 2
}