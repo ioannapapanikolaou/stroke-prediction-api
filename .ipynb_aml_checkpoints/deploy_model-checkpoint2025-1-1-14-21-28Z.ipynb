{
  "cells": [
    {
      "cell_type": "code",
      "source": [
        "from azureml.core import Workspace, Environment, Model\n",
        "from azureml.core.model import InferenceConfig\n",
        "from azureml.core.webservice import AciWebservice\n",
        "from azureml.core import Workspace, Webservice\n",
        "\n",
        "ws = Workspace.from_config()\n",
        "service_name = \"catboost-endpoint\"\n",
        "\n",
        "try:\n",
        "    service = Webservice(ws, service_name)\n",
        "    service.delete()\n",
        "    print(f\"🗑️ Deleted existing service: {service_name}\")\n",
        "except:\n",
        "    print(f\"⚠️ No existing service found: {service_name}\")\n",
        "\n",
        "# ✅ Confirm model exists\n",
        "model_name = \"catboost-thrombosis-predictor\"\n",
        "model = Model(ws, model_name)\n",
        "print(f\"✅ Found registered model: {model_name}\")\n"
      ],
      "outputs": [
        {
          "output_type": "stream",
          "name": "stdout",
          "text": "⚠️ No existing service found: catboost-endpoint\n✅ Found registered model: catboost-thrombosis-predictor\n"
        }
      ],
      "execution_count": 39,
      "metadata": {
        "gather": {
          "logged": 1738419049938
        }
      }
    },
    {
      "cell_type": "code",
      "source": [
        "env = Environment(name=\"catboost-env\")\n",
        "env.python.conda_dependencies.add_pip_package(\"catboost\")\n",
        "env.python.conda_dependencies.add_pip_package(\"numpy\")\n",
        "env.python.conda_dependencies.add_pip_package(\"scikit-learn\")\n",
        "env.python.conda_dependencies.add_pip_package(\"pandas\")\n",
        "env.python.conda_dependencies.add_pip_package(\"azureml-defaults\")\n",
        "print(\"✅ Environment created successfully\")\n"
      ],
      "outputs": [
        {
          "output_type": "stream",
          "name": "stdout",
          "text": "✅ Environment created successfully\n"
        }
      ],
      "execution_count": 35,
      "metadata": {
        "gather": {
          "logged": 1738418960859
        }
      }
    },
    {
      "cell_type": "code",
      "source": [
        "inference_config = InferenceConfig(\n",
        "    entry_script=\"score.py\",  # Ensure this file exists\n",
        "    environment=env\n",
        ")\n",
        "print(\"✅ Inference configuration created\")\n"
      ],
      "outputs": [
        {
          "output_type": "stream",
          "name": "stdout",
          "text": "✅ Inference configuration created\n"
        }
      ],
      "execution_count": 36,
      "metadata": {
        "gather": {
          "logged": 1738418968730
        }
      }
    },
    {
      "cell_type": "code",
      "source": [
        "aci_config = AciWebservice.deploy_configuration(\n",
        "    cpu_cores=1,\n",
        "    memory_gb=1,\n",
        "    auth_enabled=False\n",
        ")\n",
        "print(\"✅ Deployment configuration set\")\n"
      ],
      "outputs": [
        {
          "output_type": "stream",
          "name": "stdout",
          "text": "✅ Deployment configuration set\n"
        }
      ],
      "execution_count": 37,
      "metadata": {
        "gather": {
          "logged": 1738418974653
        }
      }
    },
    {
      "cell_type": "code",
      "source": [
        "service = Model.deploy(\n",
        "    workspace=ws,\n",
        "    name=service_name,\n",
        "    models=[model],\n",
        "    inference_config=inference_config,\n",
        "    deployment_config=aci_config\n",
        ")\n",
        "\n",
        "service.wait_for_deployment(show_output=True)\n",
        "print(f\"✅ Model deployed successfully! Endpoint URL: {service.scoring_uri}\")\n"
      ],
      "outputs": [
        {
          "output_type": "stream",
          "name": "stderr",
          "text": "/tmp/ipykernel_3110/4183800143.py:1: FutureWarning: azureml.core.model:\nTo leverage new model deployment capabilities, AzureML recommends using CLI/SDK v2 to deploy models as online endpoint, \nplease refer to respective documentations \nhttps://docs.microsoft.com/azure/machine-learning/how-to-deploy-managed-online-endpoints /\nhttps://docs.microsoft.com/azure/machine-learning/how-to-attach-kubernetes-anywhere \nFor more information on migration, see https://aka.ms/acimoemigration \nTo disable CLI/SDK v1 deprecation warning set AZUREML_LOG_DEPRECATION_WARNING_ENABLED to 'False'\n  service = Model.deploy(\n"
        },
        {
          "output_type": "error",
          "ename": "WebserviceException",
          "evalue": "WebserviceException:\n\tMessage: Service catboost-endpoint with the same name already exists, please use a different service name or delete the existing service.\n\tInnerException None\n\tErrorResponse \n{\n    \"error\": {\n        \"message\": \"Service catboost-endpoint with the same name already exists, please use a different service name or delete the existing service.\"\n    }\n}",
          "traceback": [
            "\u001b[0;31m---------------------------------------------------------------------------\u001b[0m",
            "\u001b[0;31mWebserviceException\u001b[0m                       Traceback (most recent call last)",
            "Cell \u001b[0;32mIn[38], line 1\u001b[0m\n\u001b[0;32m----> 1\u001b[0m service \u001b[38;5;241m=\u001b[39m \u001b[43mModel\u001b[49m\u001b[38;5;241;43m.\u001b[39;49m\u001b[43mdeploy\u001b[49m\u001b[43m(\u001b[49m\n\u001b[1;32m      2\u001b[0m \u001b[43m    \u001b[49m\u001b[43mworkspace\u001b[49m\u001b[38;5;241;43m=\u001b[39;49m\u001b[43mws\u001b[49m\u001b[43m,\u001b[49m\n\u001b[1;32m      3\u001b[0m \u001b[43m    \u001b[49m\u001b[43mname\u001b[49m\u001b[38;5;241;43m=\u001b[39;49m\u001b[43mservice_name\u001b[49m\u001b[43m,\u001b[49m\n\u001b[1;32m      4\u001b[0m \u001b[43m    \u001b[49m\u001b[43mmodels\u001b[49m\u001b[38;5;241;43m=\u001b[39;49m\u001b[43m[\u001b[49m\u001b[43mmodel\u001b[49m\u001b[43m]\u001b[49m\u001b[43m,\u001b[49m\n\u001b[1;32m      5\u001b[0m \u001b[43m    \u001b[49m\u001b[43minference_config\u001b[49m\u001b[38;5;241;43m=\u001b[39;49m\u001b[43minference_config\u001b[49m\u001b[43m,\u001b[49m\n\u001b[1;32m      6\u001b[0m \u001b[43m    \u001b[49m\u001b[43mdeployment_config\u001b[49m\u001b[38;5;241;43m=\u001b[39;49m\u001b[43maci_config\u001b[49m\n\u001b[1;32m      7\u001b[0m \u001b[43m)\u001b[49m\n\u001b[1;32m      9\u001b[0m service\u001b[38;5;241m.\u001b[39mwait_for_deployment(show_output\u001b[38;5;241m=\u001b[39m\u001b[38;5;28;01mTrue\u001b[39;00m)\n\u001b[1;32m     10\u001b[0m \u001b[38;5;28mprint\u001b[39m(\u001b[38;5;124mf\u001b[39m\u001b[38;5;124m\"\u001b[39m\u001b[38;5;124m✅ Model deployed successfully! Endpoint URL: \u001b[39m\u001b[38;5;132;01m{\u001b[39;00mservice\u001b[38;5;241m.\u001b[39mscoring_uri\u001b[38;5;132;01m}\u001b[39;00m\u001b[38;5;124m\"\u001b[39m)\n",
            "File \u001b[0;32m/anaconda/envs/azureml_py310_sdkv2/lib/python3.10/site-packages/azureml/core/model.py:1680\u001b[0m, in \u001b[0;36mModel.deploy\u001b[0;34m(workspace, name, models, inference_config, deployment_config, deployment_target, overwrite, show_output)\u001b[0m\n\u001b[1;32m   1677\u001b[0m     use_env_path \u001b[38;5;241m=\u001b[39m inference_config\u001b[38;5;241m.\u001b[39menvironment \u001b[38;5;129;01mis\u001b[39;00m \u001b[38;5;129;01mnot\u001b[39;00m \u001b[38;5;28;01mNone\u001b[39;00m\n\u001b[1;32m   1679\u001b[0m \u001b[38;5;28;01mif\u001b[39;00m use_env_path:\n\u001b[0;32m-> 1680\u001b[0m     \u001b[38;5;28;01mreturn\u001b[39;00m \u001b[43mModel\u001b[49m\u001b[38;5;241;43m.\u001b[39;49m\u001b[43m_deploy_with_environment\u001b[49m\u001b[43m(\u001b[49m\u001b[43mworkspace\u001b[49m\u001b[43m,\u001b[49m\u001b[43m \u001b[49m\u001b[43mname\u001b[49m\u001b[43m,\u001b[49m\u001b[43m \u001b[49m\u001b[43mmodels\u001b[49m\u001b[43m,\u001b[49m\u001b[43m \u001b[49m\u001b[43minference_config\u001b[49m\u001b[43m,\u001b[49m\u001b[43m \u001b[49m\u001b[43mdeployment_config\u001b[49m\u001b[43m,\u001b[49m\n\u001b[1;32m   1681\u001b[0m \u001b[43m                                          \u001b[49m\u001b[43mdeployment_target\u001b[49m\u001b[43m,\u001b[49m\u001b[43m \u001b[49m\u001b[43moverwrite\u001b[49m\u001b[43m,\u001b[49m\u001b[43m \u001b[49m\u001b[43mshow_output\u001b[49m\u001b[43m)\u001b[49m\n\u001b[1;32m   1683\u001b[0m \u001b[38;5;66;03m# ContainerImage-based webservice.\u001b[39;00m\n\u001b[1;32m   1684\u001b[0m \u001b[38;5;28;01mif\u001b[39;00m deployment_config\u001b[38;5;241m.\u001b[39m_webservice_type\u001b[38;5;241m.\u001b[39m_webservice_type \u001b[38;5;129;01min\u001b[39;00m \\\n\u001b[1;32m   1685\u001b[0m    (MIR_WEBSERVICE_TYPE, AKS_ENDPOINT_TYPE):\n",
            "File \u001b[0;32m/anaconda/envs/azureml_py310_sdkv2/lib/python3.10/site-packages/azureml/core/model.py:1887\u001b[0m, in \u001b[0;36mModel._deploy_with_environment\u001b[0;34m(workspace, name, models, inference_config, deployment_config, deployment_target, overwrite, show_output)\u001b[0m\n\u001b[1;32m   1863\u001b[0m \u001b[38;5;250m\u001b[39m\u001b[38;5;124;03m\"\"\"Deploy the model using an environment object.\u001b[39;00m\n\u001b[1;32m   1864\u001b[0m \n\u001b[1;32m   1865\u001b[0m \u001b[38;5;124;03m:param workspace:\u001b[39;00m\n\u001b[0;32m   (...)\u001b[0m\n\u001b[1;32m   1882\u001b[0m \u001b[38;5;124;03m:rtype: azureml.core.Webservice\u001b[39;00m\n\u001b[1;32m   1883\u001b[0m \u001b[38;5;124;03m\"\"\"\u001b[39;00m\n\u001b[1;32m   1884\u001b[0m environment_image_request \u001b[38;5;241m=\u001b[39m \\\n\u001b[1;32m   1885\u001b[0m     inference_config\u001b[38;5;241m.\u001b[39m_build_environment_image_request(workspace, [model\u001b[38;5;241m.\u001b[39mid \u001b[38;5;28;01mfor\u001b[39;00m model \u001b[38;5;129;01min\u001b[39;00m models], show_output)\n\u001b[0;32m-> 1887\u001b[0m \u001b[38;5;28;01mreturn\u001b[39;00m \u001b[43mModel\u001b[49m\u001b[38;5;241;43m.\u001b[39;49m\u001b[43m_deploy_with_environment_image_request\u001b[49m\u001b[43m(\u001b[49m\u001b[43mworkspace\u001b[49m\u001b[43m,\u001b[49m\u001b[43m \u001b[49m\u001b[43mname\u001b[49m\u001b[43m,\u001b[49m\u001b[43m \u001b[49m\u001b[43menvironment_image_request\u001b[49m\u001b[43m,\u001b[49m\n\u001b[1;32m   1888\u001b[0m \u001b[43m                                                    \u001b[49m\u001b[43mdeployment_config\u001b[49m\u001b[43m,\u001b[49m\u001b[43m \u001b[49m\u001b[43mdeployment_target\u001b[49m\u001b[43m,\u001b[49m\u001b[43m \u001b[49m\u001b[43moverwrite\u001b[49m\u001b[43m,\u001b[49m\n\u001b[1;32m   1889\u001b[0m \u001b[43m                                                    \u001b[49m\u001b[43mshow_output\u001b[49m\u001b[43m)\u001b[49m\n",
            "File \u001b[0;32m/anaconda/envs/azureml_py310_sdkv2/lib/python3.10/site-packages/azureml/core/model.py:1937\u001b[0m, in \u001b[0;36mModel._deploy_with_environment_image_request\u001b[0;34m(workspace, name, environment_image_request, deployment_config, deployment_target, overwrite, show_output)\u001b[0m\n\u001b[1;32m   1934\u001b[0m \u001b[38;5;28;01melif\u001b[39;00m \u001b[38;5;124m'\u001b[39m\u001b[38;5;124mcomputeName\u001b[39m\u001b[38;5;124m'\u001b[39m \u001b[38;5;129;01min\u001b[39;00m webservice_payload \u001b[38;5;129;01mand\u001b[39;00m deployment_target \u001b[38;5;129;01mis\u001b[39;00m \u001b[38;5;129;01mnot\u001b[39;00m \u001b[38;5;28;01mNone\u001b[39;00m:\n\u001b[1;32m   1935\u001b[0m     webservice_payload[\u001b[38;5;124m'\u001b[39m\u001b[38;5;124mcomputeName\u001b[39m\u001b[38;5;124m'\u001b[39m] \u001b[38;5;241m=\u001b[39m deployment_target\u001b[38;5;241m.\u001b[39mname\n\u001b[0;32m-> 1937\u001b[0m \u001b[38;5;28;01mreturn\u001b[39;00m \u001b[43mWebservice\u001b[49m\u001b[38;5;241;43m.\u001b[39;49m\u001b[43m_deploy_webservice\u001b[49m\u001b[43m(\u001b[49m\u001b[43mworkspace\u001b[49m\u001b[43m,\u001b[49m\u001b[43m \u001b[49m\u001b[43mname\u001b[49m\u001b[43m,\u001b[49m\u001b[43m \u001b[49m\u001b[43mwebservice_payload\u001b[49m\u001b[43m,\u001b[49m\u001b[43m \u001b[49m\u001b[43moverwrite\u001b[49m\u001b[43m,\u001b[49m\u001b[43m \u001b[49m\u001b[43mwebservice_class\u001b[49m\u001b[43m,\u001b[49m\n\u001b[1;32m   1938\u001b[0m \u001b[43m                                     \u001b[49m\u001b[43mshow_output\u001b[49m\u001b[43m)\u001b[49m\n",
            "File \u001b[0;32m/anaconda/envs/azureml_py310_sdkv2/lib/python3.10/site-packages/azureml/core/webservice/webservice.py:818\u001b[0m, in \u001b[0;36mWebservice._deploy_webservice\u001b[0;34m(workspace, name, webservice_payload, overwrite, webservice_class, show_output)\u001b[0m\n\u001b[1;32m    800\u001b[0m \u001b[38;5;250m\u001b[39m\u001b[38;5;124;03m\"\"\"Deploy the Webservice to the cloud.\u001b[39;00m\n\u001b[1;32m    801\u001b[0m \n\u001b[1;32m    802\u001b[0m \u001b[38;5;124;03m:param workspace:\u001b[39;00m\n\u001b[0;32m   (...)\u001b[0m\n\u001b[1;32m    815\u001b[0m \u001b[38;5;124;03m:rtype: azureml.core.Webservice\u001b[39;00m\n\u001b[1;32m    816\u001b[0m \u001b[38;5;124;03m\"\"\"\u001b[39;00m\n\u001b[1;32m    817\u001b[0m \u001b[38;5;66;03m# TODO Remove check_for_existing_webservice() later, this check has already included in common validation.\u001b[39;00m\n\u001b[0;32m--> 818\u001b[0m \u001b[43mWebservice\u001b[49m\u001b[38;5;241;43m.\u001b[39;49m\u001b[43mcheck_for_existing_webservice\u001b[49m\u001b[43m(\u001b[49m\u001b[43mworkspace\u001b[49m\u001b[43m,\u001b[49m\u001b[43m \u001b[49m\u001b[43mname\u001b[49m\u001b[43m,\u001b[49m\u001b[43m \u001b[49m\u001b[43moverwrite\u001b[49m\u001b[43m)\u001b[49m\n\u001b[1;32m    819\u001b[0m Webservice\u001b[38;5;241m.\u001b[39m_check_for_webservice(workspace, name, Webservice\u001b[38;5;241m.\u001b[39m_get_deploy_compute_type(webservice_payload),\n\u001b[1;32m    820\u001b[0m                                  webservice_payload, SERVICE_REQUEST_OPERATION_CREATE)\n\u001b[1;32m    822\u001b[0m \u001b[38;5;28;01mif\u001b[39;00m \u001b[38;5;129;01mnot\u001b[39;00m overwrite:\n",
            "File \u001b[0;32m/anaconda/envs/azureml_py310_sdkv2/lib/python3.10/site-packages/azureml/core/webservice/webservice.py:659\u001b[0m, in \u001b[0;36mWebservice.check_for_existing_webservice\u001b[0;34m(workspace, name, overwrite, request_func, check_func)\u001b[0m\n\u001b[1;32m    656\u001b[0m     \u001b[38;5;28;01mdef\u001b[39;00m \u001b[38;5;21mcheck_func\u001b[39m(content):\n\u001b[1;32m    657\u001b[0m         \u001b[38;5;28;01mreturn\u001b[39;00m Webservice\u001b[38;5;241m.\u001b[39m_check_validate_error(content)\n\u001b[0;32m--> 659\u001b[0m \u001b[43mWebservice\u001b[49m\u001b[38;5;241;43m.\u001b[39;49m\u001b[43m_run_validate_framework\u001b[49m\u001b[43m(\u001b[49m\u001b[43mrequest_func\u001b[49m\u001b[43m,\u001b[49m\u001b[43m \u001b[49m\u001b[43mcheck_func\u001b[49m\u001b[43m)\u001b[49m\n",
            "File \u001b[0;32m/anaconda/envs/azureml_py310_sdkv2/lib/python3.10/site-packages/azureml/core/webservice/webservice.py:630\u001b[0m, in \u001b[0;36mWebservice._run_validate_framework\u001b[0;34m(request_func, check_func)\u001b[0m\n\u001b[1;32m    627\u001b[0m \u001b[38;5;28;01mif\u001b[39;00m \u001b[38;5;129;01mnot\u001b[39;00m error:\n\u001b[1;32m    628\u001b[0m     \u001b[38;5;28;01mreturn\u001b[39;00m\n\u001b[0;32m--> 630\u001b[0m \u001b[38;5;28;01mraise\u001b[39;00m WebserviceException(error)\n",
            "\u001b[0;31mWebserviceException\u001b[0m: WebserviceException:\n\tMessage: Service catboost-endpoint with the same name already exists, please use a different service name or delete the existing service.\n\tInnerException None\n\tErrorResponse \n{\n    \"error\": {\n        \"message\": \"Service catboost-endpoint with the same name already exists, please use a different service name or delete the existing service.\"\n    }\n}"
          ]
        }
      ],
      "execution_count": 38,
      "metadata": {
        "gather": {
          "logged": 1738418984933
        }
      }
    },
    {
      "cell_type": "code",
      "source": [],
      "outputs": [],
      "execution_count": null,
      "metadata": {}
    },
    {
      "cell_type": "code",
      "source": [],
      "outputs": [],
      "execution_count": null,
      "metadata": {}
    },
    {
      "cell_type": "code",
      "source": [],
      "outputs": [],
      "execution_count": null,
      "metadata": {}
    },
    {
      "cell_type": "code",
      "source": [
        "from azureml.core import Workspace\n",
        "\n",
        "ws = Workspace.from_config()\n",
        "print(\"✅ Azure ML Workspace Loaded:\", ws.name)\n"
      ],
      "outputs": [
        {
          "output_type": "stream",
          "name": "stdout",
          "text": "✅ Azure ML Workspace Loaded: mlops-simple-flow\n"
        }
      ],
      "execution_count": 44,
      "metadata": {
        "gather": {
          "logged": 1738419630864
        }
      }
    },
    {
      "cell_type": "code",
      "source": [
        "from azureml.core.model import Model\n",
        "\n",
        "model = Model.register(\n",
        "    workspace=ws,\n",
        "    model_name=\"catboost-thrombosis-predictor\",\n",
        "    model_path=\"catboost_model.cbm\",  # Path to your model file\n",
        "    description=\"CatBoost model for predicting thrombotic events\",\n",
        ")\n",
        "\n",
        "print(\"✅ Model registered successfully!\")\n"
      ],
      "outputs": [
        {
          "output_type": "stream",
          "name": "stdout",
          "text": "Registering model catboost-thrombosis-predictor\n✅ Model registered successfully!\n"
        }
      ],
      "execution_count": 45,
      "metadata": {
        "gather": {
          "logged": 1738419639254
        }
      }
    },
    {
      "cell_type": "code",
      "source": [
        "env_yaml = \"\"\"name: catboost-env\n",
        "dependencies:\n",
        "  - python=3.8\n",
        "  - pip:\n",
        "    - azureml-defaults\n",
        "    - catboost\n",
        "    - numpy\n",
        "    - pandas\n",
        "\"\"\"\n",
        "with open(\"environment.yml\", \"w\") as f:\n",
        "    f.write(env_yaml)\n",
        "\n",
        "print(\"✅ environment.yml created successfully!\")\n"
      ],
      "outputs": [
        {
          "output_type": "stream",
          "name": "stdout",
          "text": "✅ environment.yml created successfully!\n"
        }
      ],
      "execution_count": 46,
      "metadata": {
        "gather": {
          "logged": 1738419656044
        }
      }
    },
    {
      "cell_type": "code",
      "source": [
        "from azureml.core import Environment\n",
        "\n",
        "env = Environment.from_conda_specification(name=\"catboost-env\", file_path=\"environment.yml\")\n",
        "env.register(workspace=ws)\n",
        "\n",
        "print(\"✅ Environment registered successfully!\")\n"
      ],
      "outputs": [
        {
          "output_type": "stream",
          "name": "stdout",
          "text": "✅ Environment registered successfully!\n"
        }
      ],
      "execution_count": 47,
      "metadata": {
        "gather": {
          "logged": 1738419665477
        }
      }
    },
    {
      "cell_type": "code",
      "source": [
        "score_script = \"\"\"import json\n",
        "import numpy as np\n",
        "import pandas as pd\n",
        "import joblib\n",
        "from azureml.core.model import Model\n",
        "from catboost import CatBoostClassifier\n",
        "\n",
        "def init():\n",
        "    global model\n",
        "    model_path = Model.get_model_path(\"catboost-thrombosis-predictor\")\n",
        "    model = CatBoostClassifier()\n",
        "    model.load_model(model_path)\n",
        "\n",
        "def run(raw_data):\n",
        "    try:\n",
        "        data = json.loads(raw_data)[\"data\"]\n",
        "        df = pd.DataFrame(data)\n",
        "        \n",
        "        # Convert categorical features to int if necessary\n",
        "        categorical_features = [\"gender\", \"work_type\", \"Residence_type\", \"smoking_status\"]\n",
        "        for col in categorical_features:\n",
        "            if col in df.columns:\n",
        "                df[col] = df[col].astype(str).astype(\"category\")\n",
        "\n",
        "        predictions = model.predict(df)\n",
        "        return {\"predictions\": predictions.tolist()}\n",
        "    except Exception as e:\n",
        "        return {\"error\": str(e)}\n",
        "\"\"\"\n",
        "\n",
        "with open(\"score.py\", \"w\") as f:\n",
        "    f.write(score_script)\n",
        "\n",
        "print(\"✅ score.py created successfully!\")\n"
      ],
      "outputs": [
        {
          "output_type": "stream",
          "name": "stdout",
          "text": "✅ score.py created successfully!\n"
        }
      ],
      "execution_count": 48,
      "metadata": {
        "gather": {
          "logged": 1738419684962
        }
      }
    },
    {
      "cell_type": "code",
      "source": [],
      "outputs": [],
      "execution_count": null,
      "metadata": {}
    }
  ],
  "metadata": {
    "kernelspec": {
      "name": "python310-sdkv2",
      "language": "python",
      "display_name": "Python 3.10 - SDK v2"
    },
    "language_info": {
      "name": "python",
      "version": "3.10.14",
      "mimetype": "text/x-python",
      "codemirror_mode": {
        "name": "ipython",
        "version": 3
      },
      "pygments_lexer": "ipython3",
      "nbconvert_exporter": "python",
      "file_extension": ".py"
    },
    "microsoft": {
      "ms_spell_check": {
        "ms_spell_check_language": "en"
      },
      "host": {
        "AzureML": {
          "notebookHasBeenCompleted": true
        }
      }
    },
    "kernel_info": {
      "name": "python310-sdkv2"
    },
    "nteract": {
      "version": "nteract-front-end@1.0.0"
    }
  },
  "nbformat": 4,
  "nbformat_minor": 2
}