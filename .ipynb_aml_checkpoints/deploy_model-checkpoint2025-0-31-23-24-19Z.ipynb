{
  "cells": [
    {
      "cell_type": "code",
      "source": [
        "\n",
        "# Delete the endpoint\n",
        "service.delete()\n",
        "print(f\"✅ Deleted existing endpoint: {service_name}\")\n"
      ],
      "outputs": [],
      "execution_count": null,
      "metadata": {
        "gather": {
          "logged": 1738365854324
        }
      }
    },
    {
      "cell_type": "code",
      "source": [],
      "outputs": [],
      "execution_count": null,
      "metadata": {}
    },
    {
      "cell_type": "code",
      "source": [
        "from azureml.core import Workspace, Model, Environment\n",
        "from azureml.core.model import InferenceConfig\n",
        "from azureml.core.webservice import AciWebservice, Webservice\n",
        "\n",
        "# ✅ Load Azure ML Workspace\n",
        "ws = Workspace.from_config()\n",
        "\n",
        "# ✅ Verify ACR is correctly assigned\n",
        "acr_name = \"mlopssimpleacr\"\n",
        "acr_scope = f\"/subscriptions/a9e6b3ce-7394-4a87-9482-c314c87e5743/resourceGroups/mlops-simple-flow/providers/Microsoft.ContainerRegistry/registries/{acr_name}\"\n",
        "print(f\"Using ACR: {acr_scope}\")\n",
        "\n",
        "# ✅ Ensure the model is registered\n",
        "model_name = \"catboost-thrombosis-predictor\"\n",
        "model = Model(ws, name=model_name)\n",
        "print(f\"✅ Model {model_name} found in registry.\")\n",
        "\n",
        "# ✅ Create environment for deployment\n",
        "env = Environment(name=\"catboost-env\")\n",
        "env.python.conda_dependencies.add_pip_package(\"catboost\")\n",
        "env.python.conda_dependencies.add_pip_package(\"azureml-defaults\")\n",
        "\n",
        "# ✅ Create inference configuration\n",
        "inference_config = InferenceConfig(\n",
        "    entry_script=\"score.py\",  # Your custom scoring script\n",
        "    environment=env\n",
        ")\n",
        "\n",
        "# ✅ Define deployment configuration (1 CPU, 1GB RAM)\n",
        "aci_config = AciWebservice.deploy_configuration(\n",
        "    cpu_cores=1, memory_gb=1, \n",
        "    tags={\"framework\": \"catboost\", \"task\": \"thrombosis-prediction\"},\n",
        "    description=\"Predict thrombotic events using CatBoost\",\n",
        "    auth_enabled=True,  # Enables authentication for security\n",
        "    enable_app_insights=True,  # Enables logging & monitoring\n",
        ")\n",
        "\n",
        "# ✅ Deploy model as a web service\n",
        "service_name = \"catboost-endpoint\"\n",
        "\n",
        "# 🔥 First, delete existing deployment if it exists\n",
        "try:\n",
        "    existing_service = Webservice(ws, name=service_name)\n",
        "    print(f\"🚨 Existing service '{service_name}' found. Deleting...\")\n",
        "    existing_service.delete()\n",
        "    print(f\"✅ Deleted old service '{service_name}'.\")\n",
        "except:\n",
        "    print(f\"🔹 No existing service '{service_name}' found. Proceeding with deployment.\")\n",
        "\n",
        "# ✅ Deploy the model\n",
        "print(f\"🚀 Deploying model '{model_name}' to Azure Container Instances (ACI)...\")\n",
        "service = Model.deploy(\n",
        "    workspace=ws,\n",
        "    name=service_name,\n",
        "    models=[model],\n",
        "    inference_config=inference_config,\n",
        "    deployment_config=aci_config\n",
        ")\n",
        "\n",
        "# ✅ Wait for deployment to complete\n",
        "service.wait_for_deployment(show_output=True)\n",
        "\n",
        "# ✅ Print endpoint URL\n",
        "print(f\"✅ Model deployed successfully! Endpoint URL: {service.scoring_uri}\")\n"
      ],
      "outputs": [
        {
          "output_type": "stream",
          "name": "stdout",
          "text": "Using ACR: /subscriptions/a9e6b3ce-7394-4a87-9482-c314c87e5743/resourceGroups/mlops-simple-flow/providers/Microsoft.ContainerRegistry/registries/mlopssimpleacr\n✅ Model catboost-thrombosis-predictor found in registry.\n🚨 Existing service 'catboost-endpoint' found. Deleting...\nRunning\n2025-01-31 22:40:49+00:00 Deleting service.\n2025-01-31 22:40:49+00:00 Deleting service entity.\nSucceeded\nTips: You can try get_logs(): https://aka.ms/debugimage#dockerlog or local deployment: https://aka.ms/debugimage#debug-locally to debug if deployment takes longer than 10 minutes.\nFailed"
        },
        {
          "output_type": "stream",
          "name": "stderr",
          "text": "/tmp/ipykernel_4605/177329363.py:52: FutureWarning: azureml.core.model:\nTo leverage new model deployment capabilities, AzureML recommends using CLI/SDK v2 to deploy models as online endpoint, \nplease refer to respective documentations \nhttps://docs.microsoft.com/azure/machine-learning/how-to-deploy-managed-online-endpoints /\nhttps://docs.microsoft.com/azure/machine-learning/how-to-attach-kubernetes-anywhere \nFor more information on migration, see https://aka.ms/acimoemigration \nTo disable CLI/SDK v1 deprecation warning set AZUREML_LOG_DEPRECATION_WARNING_ENABLED to 'False'\n  service = Model.deploy(\nService deployment polling reached non-successful terminal state, current service state: Unhealthy\nOperation ID: 99139f0d-beef-41e6-8591-31a30143f9b1\nCurrent sub-operation type not known, more logs unavailable.\nError:\n{\n  \"code\": \"InaccessibleImage\",\n  \"statusCode\": 400,\n  \"message\": \"ACI Service request failed. Reason: The image 'mlopssimpleacr.azurecr.io/azureml/azureml_ad26baf1abec22955cdd5679dcacaa63' in container group 'catboost-endpoint-9Bc_QrZu9UG9fIJRTYrtoQ' is not accessible. Please check the image and registry credential.. Refer to https://docs.microsoft.com/azure/container-registry/container-registry-authentication#admin-account and make sure Admin user is enabled for your container registry.\"\n}\n\n"
        },
        {
          "output_type": "error",
          "ename": "WebserviceException",
          "evalue": "WebserviceException:\n\tMessage: Service deployment polling reached non-successful terminal state, current service state: Unhealthy\nOperation ID: 99139f0d-beef-41e6-8591-31a30143f9b1\nCurrent sub-operation type not known, more logs unavailable.\nError:\n{\n  \"code\": \"InaccessibleImage\",\n  \"statusCode\": 400,\n  \"message\": \"ACI Service request failed. Reason: The image 'mlopssimpleacr.azurecr.io/azureml/azureml_ad26baf1abec22955cdd5679dcacaa63' in container group 'catboost-endpoint-9Bc_QrZu9UG9fIJRTYrtoQ' is not accessible. Please check the image and registry credential.. Refer to https://docs.microsoft.com/azure/container-registry/container-registry-authentication#admin-account and make sure Admin user is enabled for your container registry.\"\n}\n\tInnerException None\n\tErrorResponse \n{\n    \"error\": {\n        \"message\": \"Service deployment polling reached non-successful terminal state, current service state: Unhealthy\\nOperation ID: 99139f0d-beef-41e6-8591-31a30143f9b1\\nCurrent sub-operation type not known, more logs unavailable.\\nError:\\n{\\n  \\\"code\\\": \\\"InaccessibleImage\\\",\\n  \\\"statusCode\\\": 400,\\n  \\\"message\\\": \\\"ACI Service request failed. Reason: The image 'mlopssimpleacr.azurecr.io/azureml/azureml_ad26baf1abec22955cdd5679dcacaa63' in container group 'catboost-endpoint-9Bc_QrZu9UG9fIJRTYrtoQ' is not accessible. Please check the image and registry credential.. Refer to https://docs.microsoft.com/azure/container-registry/container-registry-authentication#admin-account and make sure Admin user is enabled for your container registry.\\\"\\n}\"\n    }\n}",
          "traceback": [
            "\u001b[0;31m---------------------------------------------------------------------------\u001b[0m",
            "\u001b[0;31mWebserviceException\u001b[0m                       Traceback (most recent call last)",
            "Cell \u001b[0;32mIn[16], line 61\u001b[0m\n\u001b[1;32m     52\u001b[0m service \u001b[38;5;241m=\u001b[39m Model\u001b[38;5;241m.\u001b[39mdeploy(\n\u001b[1;32m     53\u001b[0m     workspace\u001b[38;5;241m=\u001b[39mws,\n\u001b[1;32m     54\u001b[0m     name\u001b[38;5;241m=\u001b[39mservice_name,\n\u001b[0;32m   (...)\u001b[0m\n\u001b[1;32m     57\u001b[0m     deployment_config\u001b[38;5;241m=\u001b[39maci_config\n\u001b[1;32m     58\u001b[0m )\n\u001b[1;32m     60\u001b[0m \u001b[38;5;66;03m# ✅ Wait for deployment to complete\u001b[39;00m\n\u001b[0;32m---> 61\u001b[0m \u001b[43mservice\u001b[49m\u001b[38;5;241;43m.\u001b[39;49m\u001b[43mwait_for_deployment\u001b[49m\u001b[43m(\u001b[49m\u001b[43mshow_output\u001b[49m\u001b[38;5;241;43m=\u001b[39;49m\u001b[38;5;28;43;01mTrue\u001b[39;49;00m\u001b[43m)\u001b[49m\n\u001b[1;32m     63\u001b[0m \u001b[38;5;66;03m# ✅ Print endpoint URL\u001b[39;00m\n\u001b[1;32m     64\u001b[0m \u001b[38;5;28mprint\u001b[39m(\u001b[38;5;124mf\u001b[39m\u001b[38;5;124m\"\u001b[39m\u001b[38;5;124m✅ Model deployed successfully! Endpoint URL: \u001b[39m\u001b[38;5;132;01m{\u001b[39;00mservice\u001b[38;5;241m.\u001b[39mscoring_uri\u001b[38;5;132;01m}\u001b[39;00m\u001b[38;5;124m\"\u001b[39m)\n",
            "File \u001b[0;32m/anaconda/envs/azureml_py310_sdkv2/lib/python3.10/site-packages/azureml/core/webservice/webservice.py:910\u001b[0m, in \u001b[0;36mWebservice.wait_for_deployment\u001b[0;34m(self, show_output, timeout_sec)\u001b[0m\n\u001b[1;32m    907\u001b[0m         \u001b[38;5;28;01mif\u001b[39;00m \u001b[38;5;129;01mnot\u001b[39;00m logs_response:\n\u001b[1;32m    908\u001b[0m             logs_response \u001b[38;5;241m=\u001b[39m \u001b[38;5;124m'\u001b[39m\u001b[38;5;124mCurrent sub-operation type not known, more logs unavailable.\u001b[39m\u001b[38;5;124m'\u001b[39m\n\u001b[0;32m--> 910\u001b[0m         \u001b[38;5;28;01mraise\u001b[39;00m WebserviceException(\u001b[38;5;124m'\u001b[39m\u001b[38;5;124mService deployment polling reached non-successful terminal state, current \u001b[39m\u001b[38;5;124m'\u001b[39m\n\u001b[1;32m    911\u001b[0m                                   \u001b[38;5;124m'\u001b[39m\u001b[38;5;124mservice state: \u001b[39m\u001b[38;5;132;01m{}\u001b[39;00m\u001b[38;5;130;01m\\n\u001b[39;00m\u001b[38;5;124m'\u001b[39m\n\u001b[1;32m    912\u001b[0m                                   \u001b[38;5;124m'\u001b[39m\u001b[38;5;124mOperation ID: \u001b[39m\u001b[38;5;132;01m{}\u001b[39;00m\u001b[38;5;130;01m\\n\u001b[39;00m\u001b[38;5;124m'\u001b[39m\n\u001b[1;32m    913\u001b[0m                                   \u001b[38;5;124m'\u001b[39m\u001b[38;5;132;01m{}\u001b[39;00m\u001b[38;5;130;01m\\n\u001b[39;00m\u001b[38;5;124m'\u001b[39m\n\u001b[1;32m    914\u001b[0m                                   \u001b[38;5;124m'\u001b[39m\u001b[38;5;124mError:\u001b[39m\u001b[38;5;130;01m\\n\u001b[39;00m\u001b[38;5;124m'\u001b[39m\n\u001b[1;32m    915\u001b[0m                                   \u001b[38;5;124m'\u001b[39m\u001b[38;5;132;01m{}\u001b[39;00m\u001b[38;5;124m'\u001b[39m\u001b[38;5;241m.\u001b[39mformat(\u001b[38;5;28mself\u001b[39m\u001b[38;5;241m.\u001b[39mstate, \u001b[38;5;28mself\u001b[39m\u001b[38;5;241m.\u001b[39m_operation_endpoint\u001b[38;5;241m.\u001b[39msplit(\u001b[38;5;124m'\u001b[39m\u001b[38;5;124m/\u001b[39m\u001b[38;5;124m'\u001b[39m)[\u001b[38;5;241m-\u001b[39m\u001b[38;5;241m1\u001b[39m],\n\u001b[1;32m    916\u001b[0m                                               logs_response, format_error_response), logger\u001b[38;5;241m=\u001b[39mmodule_logger)\n\u001b[1;32m    917\u001b[0m     \u001b[38;5;28mprint\u001b[39m(\u001b[38;5;124m'\u001b[39m\u001b[38;5;132;01m{}\u001b[39;00m\u001b[38;5;124m service creation operation finished, operation \u001b[39m\u001b[38;5;124m\"\u001b[39m\u001b[38;5;132;01m{}\u001b[39;00m\u001b[38;5;124m\"\u001b[39m\u001b[38;5;124m'\u001b[39m\u001b[38;5;241m.\u001b[39mformat(\u001b[38;5;28mself\u001b[39m\u001b[38;5;241m.\u001b[39m_webservice_type,\n\u001b[1;32m    918\u001b[0m                                                                           operation_state))\n\u001b[1;32m    919\u001b[0m \u001b[38;5;28;01mexcept\u001b[39;00m WebserviceException \u001b[38;5;28;01mas\u001b[39;00m e:\n",
            "\u001b[0;31mWebserviceException\u001b[0m: WebserviceException:\n\tMessage: Service deployment polling reached non-successful terminal state, current service state: Unhealthy\nOperation ID: 99139f0d-beef-41e6-8591-31a30143f9b1\nCurrent sub-operation type not known, more logs unavailable.\nError:\n{\n  \"code\": \"InaccessibleImage\",\n  \"statusCode\": 400,\n  \"message\": \"ACI Service request failed. Reason: The image 'mlopssimpleacr.azurecr.io/azureml/azureml_ad26baf1abec22955cdd5679dcacaa63' in container group 'catboost-endpoint-9Bc_QrZu9UG9fIJRTYrtoQ' is not accessible. Please check the image and registry credential.. Refer to https://docs.microsoft.com/azure/container-registry/container-registry-authentication#admin-account and make sure Admin user is enabled for your container registry.\"\n}\n\tInnerException None\n\tErrorResponse \n{\n    \"error\": {\n        \"message\": \"Service deployment polling reached non-successful terminal state, current service state: Unhealthy\\nOperation ID: 99139f0d-beef-41e6-8591-31a30143f9b1\\nCurrent sub-operation type not known, more logs unavailable.\\nError:\\n{\\n  \\\"code\\\": \\\"InaccessibleImage\\\",\\n  \\\"statusCode\\\": 400,\\n  \\\"message\\\": \\\"ACI Service request failed. Reason: The image 'mlopssimpleacr.azurecr.io/azureml/azureml_ad26baf1abec22955cdd5679dcacaa63' in container group 'catboost-endpoint-9Bc_QrZu9UG9fIJRTYrtoQ' is not accessible. Please check the image and registry credential.. Refer to https://docs.microsoft.com/azure/container-registry/container-registry-authentication#admin-account and make sure Admin user is enabled for your container registry.\\\"\\n}\"\n    }\n}"
          ]
        }
      ],
      "execution_count": 16,
      "metadata": {
        "gather": {
          "logged": 1738363269915
        }
      }
    },
    {
      "cell_type": "code",
      "source": [
        "from azureml.core import Model, Environment, Workspace\n",
        "from azureml.core.model import InferenceConfig\n",
        "from azureml.core.webservice import AciWebservice, Webservice\n",
        "\n",
        "# ✅ Connect to Azure ML Workspace\n",
        "ws = Workspace.from_config()\n",
        "\n",
        "# ✅ Load the registered model\n",
        "model = Model(ws, name=\"catboost-thrombosis-predictor\")\n",
        "\n",
        "# ✅ Define environment for deployment\n",
        "env = Environment(name=\"catboost-env\")\n",
        "env.python.conda_dependencies.add_pip_package(\"catboost\")\n",
        "env.python.conda_dependencies.add_pip_package(\"azureml-defaults\")\n",
        "\n",
        "# ✅ Create inference configuration\n",
        "inference_config = InferenceConfig(\n",
        "    entry_script=\"score.py\",\n",
        "    environment=env\n",
        ")\n",
        "\n",
        "# ✅ Define deployment configuration (1 CPU, 1GB RAM)\n",
        "aci_config = AciWebservice.deploy_configuration(cpu_cores=1, memory_gb=1)\n",
        "\n",
        "# ✅ Deploy model as a web service\n",
        "service = Model.deploy(\n",
        "    workspace=ws,\n",
        "    name=\"catboost-endpoint\",\n",
        "    models=[model],\n",
        "    inference_config=inference_config,\n",
        "    deployment_config=aci_config\n",
        ")\n",
        "\n",
        "service.wait_for_deployment(show_output=True)\n",
        "print(f\"✅ Model deployed successfully! Endpoint URL: {service.scoring_uri}\")\n"
      ],
      "outputs": [
        {
          "output_type": "stream",
          "name": "stderr",
          "text": "/tmp/ipykernel_4605/967373416.py:26: FutureWarning: azureml.core.model:\nTo leverage new model deployment capabilities, AzureML recommends using CLI/SDK v2 to deploy models as online endpoint, \nplease refer to respective documentations \nhttps://docs.microsoft.com/azure/machine-learning/how-to-deploy-managed-online-endpoints /\nhttps://docs.microsoft.com/azure/machine-learning/how-to-attach-kubernetes-anywhere \nFor more information on migration, see https://aka.ms/acimoemigration \nTo disable CLI/SDK v1 deprecation warning set AZUREML_LOG_DEPRECATION_WARNING_ENABLED to 'False'\n  service = Model.deploy(\nService deployment polling reached non-successful terminal state, current service state: Unhealthy\nOperation ID: 26f40595-eb69-409a-97d3-cc9b4681e2bf\nCurrent sub-operation type not known, more logs unavailable.\nError:\n{\n  \"code\": \"InaccessibleImage\",\n  \"statusCode\": 400,\n  \"message\": \"ACI Service request failed. Reason: The image 'mlopssimpleacr.azurecr.io/azureml/azureml_ad26baf1abec22955cdd5679dcacaa63' in container group 'catboost-endpoint-9Bc_QrZu9UG9fIJRTYrtoQ' is not accessible. Please check the image and registry credential.. Refer to https://docs.microsoft.com/azure/container-registry/container-registry-authentication#admin-account and make sure Admin user is enabled for your container registry.\"\n}\n\n"
        },
        {
          "output_type": "stream",
          "name": "stdout",
          "text": "Tips: You can try get_logs(): https://aka.ms/debugimage#dockerlog or local deployment: https://aka.ms/debugimage#debug-locally to debug if deployment takes longer than 10 minutes.\nFailed"
        },
        {
          "output_type": "error",
          "ename": "WebserviceException",
          "evalue": "WebserviceException:\n\tMessage: Service deployment polling reached non-successful terminal state, current service state: Unhealthy\nOperation ID: 26f40595-eb69-409a-97d3-cc9b4681e2bf\nCurrent sub-operation type not known, more logs unavailable.\nError:\n{\n  \"code\": \"InaccessibleImage\",\n  \"statusCode\": 400,\n  \"message\": \"ACI Service request failed. Reason: The image 'mlopssimpleacr.azurecr.io/azureml/azureml_ad26baf1abec22955cdd5679dcacaa63' in container group 'catboost-endpoint-9Bc_QrZu9UG9fIJRTYrtoQ' is not accessible. Please check the image and registry credential.. Refer to https://docs.microsoft.com/azure/container-registry/container-registry-authentication#admin-account and make sure Admin user is enabled for your container registry.\"\n}\n\tInnerException None\n\tErrorResponse \n{\n    \"error\": {\n        \"message\": \"Service deployment polling reached non-successful terminal state, current service state: Unhealthy\\nOperation ID: 26f40595-eb69-409a-97d3-cc9b4681e2bf\\nCurrent sub-operation type not known, more logs unavailable.\\nError:\\n{\\n  \\\"code\\\": \\\"InaccessibleImage\\\",\\n  \\\"statusCode\\\": 400,\\n  \\\"message\\\": \\\"ACI Service request failed. Reason: The image 'mlopssimpleacr.azurecr.io/azureml/azureml_ad26baf1abec22955cdd5679dcacaa63' in container group 'catboost-endpoint-9Bc_QrZu9UG9fIJRTYrtoQ' is not accessible. Please check the image and registry credential.. Refer to https://docs.microsoft.com/azure/container-registry/container-registry-authentication#admin-account and make sure Admin user is enabled for your container registry.\\\"\\n}\"\n    }\n}",
          "traceback": [
            "\u001b[0;31m---------------------------------------------------------------------------\u001b[0m",
            "\u001b[0;31mWebserviceException\u001b[0m                       Traceback (most recent call last)",
            "Cell \u001b[0;32mIn[12], line 34\u001b[0m\n\u001b[1;32m     25\u001b[0m \u001b[38;5;66;03m# ✅ Deploy model as a web service\u001b[39;00m\n\u001b[1;32m     26\u001b[0m service \u001b[38;5;241m=\u001b[39m Model\u001b[38;5;241m.\u001b[39mdeploy(\n\u001b[1;32m     27\u001b[0m     workspace\u001b[38;5;241m=\u001b[39mws,\n\u001b[1;32m     28\u001b[0m     name\u001b[38;5;241m=\u001b[39m\u001b[38;5;124m\"\u001b[39m\u001b[38;5;124mcatboost-endpoint\u001b[39m\u001b[38;5;124m\"\u001b[39m,\n\u001b[0;32m   (...)\u001b[0m\n\u001b[1;32m     31\u001b[0m     deployment_config\u001b[38;5;241m=\u001b[39maci_config\n\u001b[1;32m     32\u001b[0m )\n\u001b[0;32m---> 34\u001b[0m \u001b[43mservice\u001b[49m\u001b[38;5;241;43m.\u001b[39;49m\u001b[43mwait_for_deployment\u001b[49m\u001b[43m(\u001b[49m\u001b[43mshow_output\u001b[49m\u001b[38;5;241;43m=\u001b[39;49m\u001b[38;5;28;43;01mTrue\u001b[39;49;00m\u001b[43m)\u001b[49m\n\u001b[1;32m     35\u001b[0m \u001b[38;5;28mprint\u001b[39m(\u001b[38;5;124mf\u001b[39m\u001b[38;5;124m\"\u001b[39m\u001b[38;5;124m✅ Model deployed successfully! Endpoint URL: \u001b[39m\u001b[38;5;132;01m{\u001b[39;00mservice\u001b[38;5;241m.\u001b[39mscoring_uri\u001b[38;5;132;01m}\u001b[39;00m\u001b[38;5;124m\"\u001b[39m)\n",
            "File \u001b[0;32m/anaconda/envs/azureml_py310_sdkv2/lib/python3.10/site-packages/azureml/core/webservice/webservice.py:910\u001b[0m, in \u001b[0;36mWebservice.wait_for_deployment\u001b[0;34m(self, show_output, timeout_sec)\u001b[0m\n\u001b[1;32m    907\u001b[0m         \u001b[38;5;28;01mif\u001b[39;00m \u001b[38;5;129;01mnot\u001b[39;00m logs_response:\n\u001b[1;32m    908\u001b[0m             logs_response \u001b[38;5;241m=\u001b[39m \u001b[38;5;124m'\u001b[39m\u001b[38;5;124mCurrent sub-operation type not known, more logs unavailable.\u001b[39m\u001b[38;5;124m'\u001b[39m\n\u001b[0;32m--> 910\u001b[0m         \u001b[38;5;28;01mraise\u001b[39;00m WebserviceException(\u001b[38;5;124m'\u001b[39m\u001b[38;5;124mService deployment polling reached non-successful terminal state, current \u001b[39m\u001b[38;5;124m'\u001b[39m\n\u001b[1;32m    911\u001b[0m                                   \u001b[38;5;124m'\u001b[39m\u001b[38;5;124mservice state: \u001b[39m\u001b[38;5;132;01m{}\u001b[39;00m\u001b[38;5;130;01m\\n\u001b[39;00m\u001b[38;5;124m'\u001b[39m\n\u001b[1;32m    912\u001b[0m                                   \u001b[38;5;124m'\u001b[39m\u001b[38;5;124mOperation ID: \u001b[39m\u001b[38;5;132;01m{}\u001b[39;00m\u001b[38;5;130;01m\\n\u001b[39;00m\u001b[38;5;124m'\u001b[39m\n\u001b[1;32m    913\u001b[0m                                   \u001b[38;5;124m'\u001b[39m\u001b[38;5;132;01m{}\u001b[39;00m\u001b[38;5;130;01m\\n\u001b[39;00m\u001b[38;5;124m'\u001b[39m\n\u001b[1;32m    914\u001b[0m                                   \u001b[38;5;124m'\u001b[39m\u001b[38;5;124mError:\u001b[39m\u001b[38;5;130;01m\\n\u001b[39;00m\u001b[38;5;124m'\u001b[39m\n\u001b[1;32m    915\u001b[0m                                   \u001b[38;5;124m'\u001b[39m\u001b[38;5;132;01m{}\u001b[39;00m\u001b[38;5;124m'\u001b[39m\u001b[38;5;241m.\u001b[39mformat(\u001b[38;5;28mself\u001b[39m\u001b[38;5;241m.\u001b[39mstate, \u001b[38;5;28mself\u001b[39m\u001b[38;5;241m.\u001b[39m_operation_endpoint\u001b[38;5;241m.\u001b[39msplit(\u001b[38;5;124m'\u001b[39m\u001b[38;5;124m/\u001b[39m\u001b[38;5;124m'\u001b[39m)[\u001b[38;5;241m-\u001b[39m\u001b[38;5;241m1\u001b[39m],\n\u001b[1;32m    916\u001b[0m                                               logs_response, format_error_response), logger\u001b[38;5;241m=\u001b[39mmodule_logger)\n\u001b[1;32m    917\u001b[0m     \u001b[38;5;28mprint\u001b[39m(\u001b[38;5;124m'\u001b[39m\u001b[38;5;132;01m{}\u001b[39;00m\u001b[38;5;124m service creation operation finished, operation \u001b[39m\u001b[38;5;124m\"\u001b[39m\u001b[38;5;132;01m{}\u001b[39;00m\u001b[38;5;124m\"\u001b[39m\u001b[38;5;124m'\u001b[39m\u001b[38;5;241m.\u001b[39mformat(\u001b[38;5;28mself\u001b[39m\u001b[38;5;241m.\u001b[39m_webservice_type,\n\u001b[1;32m    918\u001b[0m                                                                           operation_state))\n\u001b[1;32m    919\u001b[0m \u001b[38;5;28;01mexcept\u001b[39;00m WebserviceException \u001b[38;5;28;01mas\u001b[39;00m e:\n",
            "\u001b[0;31mWebserviceException\u001b[0m: WebserviceException:\n\tMessage: Service deployment polling reached non-successful terminal state, current service state: Unhealthy\nOperation ID: 26f40595-eb69-409a-97d3-cc9b4681e2bf\nCurrent sub-operation type not known, more logs unavailable.\nError:\n{\n  \"code\": \"InaccessibleImage\",\n  \"statusCode\": 400,\n  \"message\": \"ACI Service request failed. Reason: The image 'mlopssimpleacr.azurecr.io/azureml/azureml_ad26baf1abec22955cdd5679dcacaa63' in container group 'catboost-endpoint-9Bc_QrZu9UG9fIJRTYrtoQ' is not accessible. Please check the image and registry credential.. Refer to https://docs.microsoft.com/azure/container-registry/container-registry-authentication#admin-account and make sure Admin user is enabled for your container registry.\"\n}\n\tInnerException None\n\tErrorResponse \n{\n    \"error\": {\n        \"message\": \"Service deployment polling reached non-successful terminal state, current service state: Unhealthy\\nOperation ID: 26f40595-eb69-409a-97d3-cc9b4681e2bf\\nCurrent sub-operation type not known, more logs unavailable.\\nError:\\n{\\n  \\\"code\\\": \\\"InaccessibleImage\\\",\\n  \\\"statusCode\\\": 400,\\n  \\\"message\\\": \\\"ACI Service request failed. Reason: The image 'mlopssimpleacr.azurecr.io/azureml/azureml_ad26baf1abec22955cdd5679dcacaa63' in container group 'catboost-endpoint-9Bc_QrZu9UG9fIJRTYrtoQ' is not accessible. Please check the image and registry credential.. Refer to https://docs.microsoft.com/azure/container-registry/container-registry-authentication#admin-account and make sure Admin user is enabled for your container registry.\\\"\\n}\"\n    }\n}"
          ]
        }
      ],
      "execution_count": 12,
      "metadata": {
        "gather": {
          "logged": 1738361524565
        }
      }
    },
    {
      "cell_type": "code",
      "source": [],
      "outputs": [],
      "execution_count": null,
      "metadata": {}
    },
    {
      "cell_type": "code",
      "source": [],
      "outputs": [],
      "execution_count": null,
      "metadata": {}
    },
    {
      "cell_type": "markdown",
      "source": [
        "Test Request"
      ],
      "metadata": {
        "nteract": {
          "transient": {
            "deleting": false
          }
        }
      }
    },
    {
      "cell_type": "code",
      "source": [
        "import requests\n",
        "import json\n",
        "\n",
        "# Replace the endpoint-url with the actual URL from Azure ML\n",
        "endpoint_url = \"https://<your-endpoint-url>/score\"\n",
        "\n",
        "# Sample test data (Replace with actual feature values)\n",
        "test_data = {\n",
        "    \"data\": [\n",
        "        {\"gender\": 1, \"ever_married\": 1, \"work_type\": 2, \"Residence_type\": 1, \"smoking_status\": 2, \n",
        "         \"age\": 50.0, \"avg_glucose_level\": 100.0, \"bmi\": 25.0}\n",
        "    ]\n",
        "}\n",
        "\n",
        "# Send request\n",
        "response = requests.post(endpoint_url, json=test_data)\n",
        "\n",
        "# Print the response\n",
        "print(\"Predictions:\", response.json())\n"
      ],
      "outputs": [],
      "execution_count": null,
      "metadata": {}
    }
  ],
  "metadata": {
    "kernelspec": {
      "name": "python310-sdkv2",
      "language": "python",
      "display_name": "Python 3.10 - SDK v2"
    },
    "language_info": {
      "name": "python",
      "version": "3.10.14",
      "mimetype": "text/x-python",
      "codemirror_mode": {
        "name": "ipython",
        "version": 3
      },
      "pygments_lexer": "ipython3",
      "nbconvert_exporter": "python",
      "file_extension": ".py"
    },
    "microsoft": {
      "ms_spell_check": {
        "ms_spell_check_language": "en"
      },
      "host": {
        "AzureML": {
          "notebookHasBeenCompleted": true
        }
      }
    },
    "kernel_info": {
      "name": "python310-sdkv2"
    },
    "nteract": {
      "version": "nteract-front-end@1.0.0"
    }
  },
  "nbformat": 4,
  "nbformat_minor": 2
}