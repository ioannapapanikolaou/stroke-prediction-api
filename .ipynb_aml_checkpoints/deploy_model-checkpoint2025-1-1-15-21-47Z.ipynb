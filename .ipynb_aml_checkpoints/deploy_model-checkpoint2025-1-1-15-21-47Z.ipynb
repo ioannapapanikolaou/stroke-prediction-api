{
  "cells": [
    {
      "cell_type": "code",
      "source": [
        "from azureml.core import Workspace, Environment, Model\n",
        "from azureml.core.model import InferenceConfig\n",
        "from azureml.core.webservice import AciWebservice\n",
        "from azureml.core import Workspace, Webservice\n",
        "\n",
        "ws = Workspace.from_config()\n",
        "service_name = \"catboost-endpoint\"\n",
        "\n",
        "try:\n",
        "    service = Webservice(ws, service_name)\n",
        "    service.delete()\n",
        "    print(f\"🗑️ Deleted existing service: {service_name}\")\n",
        "except:\n",
        "    print(f\"⚠️ No existing service found: {service_name}\")\n",
        "\n",
        "# ✅ Confirm model exists\n",
        "model_name = \"catboost-thrombosis-predictor\"\n",
        "model = Model(ws, model_name)\n",
        "print(f\"✅ Found registered model: {model_name}\")\n"
      ],
      "outputs": [
        {
          "output_type": "stream",
          "name": "stdout",
          "text": "⚠️ No existing service found: catboost-endpoint\n✅ Found registered model: catboost-thrombosis-predictor\n"
        }
      ],
      "execution_count": 39,
      "metadata": {
        "gather": {
          "logged": 1738419049938
        }
      }
    },
    {
      "cell_type": "code",
      "source": [
        "env = Environment(name=\"catboost-env\")\n",
        "env.python.conda_dependencies.add_pip_package(\"catboost\")\n",
        "env.python.conda_dependencies.add_pip_package(\"numpy\")\n",
        "env.python.conda_dependencies.add_pip_package(\"scikit-learn\")\n",
        "env.python.conda_dependencies.add_pip_package(\"pandas\")\n",
        "env.python.conda_dependencies.add_pip_package(\"azureml-defaults\")\n",
        "print(\"✅ Environment created successfully\")\n"
      ],
      "outputs": [
        {
          "output_type": "stream",
          "name": "stdout",
          "text": "✅ Environment created successfully\n"
        }
      ],
      "execution_count": 35,
      "metadata": {
        "gather": {
          "logged": 1738418960859
        }
      }
    },
    {
      "cell_type": "code",
      "source": [
        "inference_config = InferenceConfig(\n",
        "    entry_script=\"score.py\",  # Ensure this file exists\n",
        "    environment=env\n",
        ")\n",
        "print(\"✅ Inference configuration created\")\n"
      ],
      "outputs": [
        {
          "output_type": "stream",
          "name": "stdout",
          "text": "✅ Inference configuration created\n"
        }
      ],
      "execution_count": 36,
      "metadata": {
        "gather": {
          "logged": 1738418968730
        }
      }
    },
    {
      "cell_type": "code",
      "source": [
        "aci_config = AciWebservice.deploy_configuration(\n",
        "    cpu_cores=1,\n",
        "    memory_gb=1,\n",
        "    auth_enabled=False\n",
        ")\n",
        "print(\"✅ Deployment configuration set\")\n"
      ],
      "outputs": [
        {
          "output_type": "stream",
          "name": "stdout",
          "text": "✅ Deployment configuration set\n"
        }
      ],
      "execution_count": 37,
      "metadata": {
        "gather": {
          "logged": 1738418974653
        }
      }
    },
    {
      "cell_type": "code",
      "source": [],
      "outputs": [],
      "execution_count": null,
      "metadata": {}
    },
    {
      "cell_type": "code",
      "source": [],
      "outputs": [],
      "execution_count": null,
      "metadata": {}
    },
    {
      "cell_type": "code",
      "source": [],
      "outputs": [],
      "execution_count": null,
      "metadata": {}
    },
    {
      "cell_type": "code",
      "source": [
        "from azureml.core import Workspace\n",
        "\n",
        "ws = Workspace.from_config()\n",
        "print(\"✅ Azure ML Workspace Loaded:\", ws.name)\n"
      ],
      "outputs": [
        {
          "output_type": "stream",
          "name": "stdout",
          "text": "✅ Azure ML Workspace Loaded: mlops-simple-flow\n"
        }
      ],
      "execution_count": 1,
      "metadata": {
        "gather": {
          "logged": 1738422943195
        }
      }
    },
    {
      "cell_type": "code",
      "source": [
        "from azureml.core.model import Model\n",
        "\n",
        "model = Model.register(\n",
        "    workspace=ws,\n",
        "    model_name=\"catboost-thrombosis-predictor\",\n",
        "    model_path=\"catboost_model.cbm\",  # Path to your model file\n",
        "    description=\"CatBoost model for predicting thrombotic events\",\n",
        ")\n",
        "\n",
        "print(\"✅ Model registered successfully!\")\n"
      ],
      "outputs": [
        {
          "output_type": "stream",
          "name": "stdout",
          "text": "Registering model catboost-thrombosis-predictor\n✅ Model registered successfully!\n"
        }
      ],
      "execution_count": 2,
      "metadata": {
        "gather": {
          "logged": 1738422946867
        }
      }
    },
    {
      "cell_type": "code",
      "source": [
        "env_yaml = \"\"\"name: catboost-env\n",
        "dependencies:\n",
        "  - python=3.8\n",
        "  - pip:\n",
        "    - azureml-defaults\n",
        "    - catboost\n",
        "    - numpy\n",
        "    - pandas\n",
        "\"\"\"\n",
        "with open(\"environment.yml\", \"w\") as f:\n",
        "    f.write(env_yaml)\n",
        "\n",
        "print(\"✅ environment.yml created successfully!\")\n"
      ],
      "outputs": [
        {
          "output_type": "stream",
          "name": "stdout",
          "text": "✅ environment.yml created successfully!\n"
        }
      ],
      "execution_count": 3,
      "metadata": {
        "gather": {
          "logged": 1738422949014
        }
      }
    },
    {
      "cell_type": "code",
      "source": [
        "from azureml.core import Environment\n",
        "\n",
        "env = Environment.from_conda_specification(name=\"catboost-env\", file_path=\"environment.yml\")\n",
        "env.register(workspace=ws)\n",
        "\n",
        "print(\"✅ Environment registered successfully!\")\n"
      ],
      "outputs": [
        {
          "output_type": "stream",
          "name": "stdout",
          "text": "✅ Environment registered successfully!\n"
        }
      ],
      "execution_count": 4,
      "metadata": {
        "gather": {
          "logged": 1738422951233
        }
      }
    },
    {
      "cell_type": "code",
      "source": [
        "score_script = \"\"\"import json\n",
        "import numpy as np\n",
        "import pandas as pd\n",
        "import joblib\n",
        "from azureml.core.model import Model\n",
        "from catboost import CatBoostClassifier\n",
        "\n",
        "def init():\n",
        "    global model\n",
        "    model_path = Model.get_model_path(\"catboost-thrombosis-predictor\")\n",
        "    model = CatBoostClassifier()\n",
        "    model.load_model(model_path)\n",
        "\n",
        "def run(raw_data):\n",
        "    try:\n",
        "        data = json.loads(raw_data)[\"data\"]\n",
        "        df = pd.DataFrame(data)\n",
        "        \n",
        "        # Convert categorical features to int if necessary\n",
        "        categorical_features = [\"gender\", \"work_type\", \"Residence_type\", \"smoking_status\"]\n",
        "        for col in categorical_features:\n",
        "            if col in df.columns:\n",
        "                df[col] = df[col].astype(str).astype(\"category\")\n",
        "\n",
        "        predictions = model.predict(df)\n",
        "        return {\"predictions\": predictions.tolist()}\n",
        "    except Exception as e:\n",
        "        return {\"error\": str(e)}\n",
        "\"\"\"\n",
        "\n",
        "with open(\"score.py\", \"w\") as f:\n",
        "    f.write(score_script)\n",
        "\n",
        "print(\"✅ score.py created successfully!\")\n"
      ],
      "outputs": [
        {
          "output_type": "stream",
          "name": "stdout",
          "text": "✅ score.py created successfully!\n"
        }
      ],
      "execution_count": 5,
      "metadata": {
        "gather": {
          "logged": 1738422957921
        }
      }
    },
    {
      "cell_type": "code",
      "source": [
        "from azureml.core.model import InferenceConfig\n",
        "from azureml.core.webservice import AciWebservice, Webservice\n",
        "\n",
        "# Define inference configuration\n",
        "inference_config = InferenceConfig(\n",
        "    entry_script=\"score.py\",  # The script handling inference requests\n",
        "    environment=env\n",
        ")\n",
        "\n",
        "# Define ACI deployment configuration\n",
        "aci_config = AciWebservice.deploy_configuration(cpu_cores=1, memory_gb=1)\n",
        "\n",
        "# Deploy the model\n",
        "service_name = \"catboost-endpoint\"\n",
        "service = Model.deploy(\n",
        "    workspace=ws,\n",
        "    name=service_name,\n",
        "    models=[model],\n",
        "    inference_config=inference_config,\n",
        "    deployment_config=aci_config\n",
        ")\n",
        "\n",
        "service.wait_for_deployment(show_output=True)\n",
        "print(f\"✅ Model deployed successfully! Endpoint URL: {service.scoring_uri}\")\n"
      ],
      "outputs": [
        {
          "output_type": "stream",
          "name": "stderr",
          "text": "/tmp/ipykernel_5542/1950278768.py:15: FutureWarning: azureml.core.model:\nTo leverage new model deployment capabilities, AzureML recommends using CLI/SDK v2 to deploy models as online endpoint, \nplease refer to respective documentations \nhttps://docs.microsoft.com/azure/machine-learning/how-to-deploy-managed-online-endpoints /\nhttps://docs.microsoft.com/azure/machine-learning/how-to-attach-kubernetes-anywhere \nFor more information on migration, see https://aka.ms/acimoemigration \nTo disable CLI/SDK v1 deprecation warning set AZUREML_LOG_DEPRECATION_WARNING_ENABLED to 'False'\n  service = Model.deploy(\nService deployment polling reached non-successful terminal state, current service state: Unhealthy\nOperation ID: a05c6fd7-73db-48b0-8ef0-a2a0d12c0b7c\nMore information can be found using '.get_logs()'\nError:\n{\n  \"code\": \"AciDeploymentFailed\",\n  \"statusCode\": 400,\n  \"message\": \"Aci Deployment failed with exception: Error in entry script, ModuleNotFoundError: No module named 'joblib', please run print(service.get_logs()) to get details.\",\n  \"details\": [\n    {\n      \"code\": \"CrashLoopBackOff\",\n      \"message\": \"Error in entry script, ModuleNotFoundError: No module named 'joblib', please run print(service.get_logs()) to get details.\"\n    }\n  ]\n}\n\n"
        },
        {
          "output_type": "stream",
          "name": "stdout",
          "text": "Tips: You can try get_logs(): https://aka.ms/debugimage#dockerlog or local deployment: https://aka.ms/debugimage#debug-locally to debug if deployment takes longer than 10 minutes.\nRunning\n2025-02-01 15:16:02+00:00 Creating Container Registry if not exists.\n2025-02-01 15:16:03+00:00 Use the existing image.\n2025-02-01 15:16:03+00:00 Generating deployment configuration.\n2025-02-01 15:16:05+00:00 Submitting deployment to compute.\n2025-02-01 15:16:14+00:00 Checking the status of deployment catboost-endpoint..\n2025-02-01 15:17:51+00:00 Checking the status of inference endpoint catboost-endpoint.\nFailed\n"
        },
        {
          "output_type": "error",
          "ename": "WebserviceException",
          "evalue": "WebserviceException:\n\tMessage: Service deployment polling reached non-successful terminal state, current service state: Unhealthy\nOperation ID: a05c6fd7-73db-48b0-8ef0-a2a0d12c0b7c\nMore information can be found using '.get_logs()'\nError:\n{\n  \"code\": \"AciDeploymentFailed\",\n  \"statusCode\": 400,\n  \"message\": \"Aci Deployment failed with exception: Error in entry script, ModuleNotFoundError: No module named 'joblib', please run print(service.get_logs()) to get details.\",\n  \"details\": [\n    {\n      \"code\": \"CrashLoopBackOff\",\n      \"message\": \"Error in entry script, ModuleNotFoundError: No module named 'joblib', please run print(service.get_logs()) to get details.\"\n    }\n  ]\n}\n\tInnerException None\n\tErrorResponse \n{\n    \"error\": {\n        \"message\": \"Service deployment polling reached non-successful terminal state, current service state: Unhealthy\\nOperation ID: a05c6fd7-73db-48b0-8ef0-a2a0d12c0b7c\\nMore information can be found using '.get_logs()'\\nError:\\n{\\n  \\\"code\\\": \\\"AciDeploymentFailed\\\",\\n  \\\"statusCode\\\": 400,\\n  \\\"message\\\": \\\"Aci Deployment failed with exception: Error in entry script, ModuleNotFoundError: No module named 'joblib', please run print(service.get_logs()) to get details.\\\",\\n  \\\"details\\\": [\\n    {\\n      \\\"code\\\": \\\"CrashLoopBackOff\\\",\\n      \\\"message\\\": \\\"Error in entry script, ModuleNotFoundError: No module named 'joblib', please run print(service.get_logs()) to get details.\\\"\\n    }\\n  ]\\n}\"\n    }\n}",
          "traceback": [
            "\u001b[0;31m---------------------------------------------------------------------------\u001b[0m",
            "\u001b[0;31mWebserviceException\u001b[0m                       Traceback (most recent call last)",
            "Cell \u001b[0;32mIn[6], line 23\u001b[0m\n\u001b[1;32m     14\u001b[0m service_name \u001b[38;5;241m=\u001b[39m \u001b[38;5;124m\"\u001b[39m\u001b[38;5;124mcatboost-endpoint\u001b[39m\u001b[38;5;124m\"\u001b[39m\n\u001b[1;32m     15\u001b[0m service \u001b[38;5;241m=\u001b[39m Model\u001b[38;5;241m.\u001b[39mdeploy(\n\u001b[1;32m     16\u001b[0m     workspace\u001b[38;5;241m=\u001b[39mws,\n\u001b[1;32m     17\u001b[0m     name\u001b[38;5;241m=\u001b[39mservice_name,\n\u001b[0;32m   (...)\u001b[0m\n\u001b[1;32m     20\u001b[0m     deployment_config\u001b[38;5;241m=\u001b[39maci_config\n\u001b[1;32m     21\u001b[0m )\n\u001b[0;32m---> 23\u001b[0m \u001b[43mservice\u001b[49m\u001b[38;5;241;43m.\u001b[39;49m\u001b[43mwait_for_deployment\u001b[49m\u001b[43m(\u001b[49m\u001b[43mshow_output\u001b[49m\u001b[38;5;241;43m=\u001b[39;49m\u001b[38;5;28;43;01mTrue\u001b[39;49;00m\u001b[43m)\u001b[49m\n\u001b[1;32m     24\u001b[0m \u001b[38;5;28mprint\u001b[39m(\u001b[38;5;124mf\u001b[39m\u001b[38;5;124m\"\u001b[39m\u001b[38;5;124m✅ Model deployed successfully! Endpoint URL: \u001b[39m\u001b[38;5;132;01m{\u001b[39;00mservice\u001b[38;5;241m.\u001b[39mscoring_uri\u001b[38;5;132;01m}\u001b[39;00m\u001b[38;5;124m\"\u001b[39m)\n",
            "File \u001b[0;32m/anaconda/envs/azureml_py310_sdkv2/lib/python3.10/site-packages/azureml/core/webservice/webservice.py:910\u001b[0m, in \u001b[0;36mWebservice.wait_for_deployment\u001b[0;34m(self, show_output, timeout_sec)\u001b[0m\n\u001b[1;32m    907\u001b[0m         \u001b[38;5;28;01mif\u001b[39;00m \u001b[38;5;129;01mnot\u001b[39;00m logs_response:\n\u001b[1;32m    908\u001b[0m             logs_response \u001b[38;5;241m=\u001b[39m \u001b[38;5;124m'\u001b[39m\u001b[38;5;124mCurrent sub-operation type not known, more logs unavailable.\u001b[39m\u001b[38;5;124m'\u001b[39m\n\u001b[0;32m--> 910\u001b[0m         \u001b[38;5;28;01mraise\u001b[39;00m WebserviceException(\u001b[38;5;124m'\u001b[39m\u001b[38;5;124mService deployment polling reached non-successful terminal state, current \u001b[39m\u001b[38;5;124m'\u001b[39m\n\u001b[1;32m    911\u001b[0m                                   \u001b[38;5;124m'\u001b[39m\u001b[38;5;124mservice state: \u001b[39m\u001b[38;5;132;01m{}\u001b[39;00m\u001b[38;5;130;01m\\n\u001b[39;00m\u001b[38;5;124m'\u001b[39m\n\u001b[1;32m    912\u001b[0m                                   \u001b[38;5;124m'\u001b[39m\u001b[38;5;124mOperation ID: \u001b[39m\u001b[38;5;132;01m{}\u001b[39;00m\u001b[38;5;130;01m\\n\u001b[39;00m\u001b[38;5;124m'\u001b[39m\n\u001b[1;32m    913\u001b[0m                                   \u001b[38;5;124m'\u001b[39m\u001b[38;5;132;01m{}\u001b[39;00m\u001b[38;5;130;01m\\n\u001b[39;00m\u001b[38;5;124m'\u001b[39m\n\u001b[1;32m    914\u001b[0m                                   \u001b[38;5;124m'\u001b[39m\u001b[38;5;124mError:\u001b[39m\u001b[38;5;130;01m\\n\u001b[39;00m\u001b[38;5;124m'\u001b[39m\n\u001b[1;32m    915\u001b[0m                                   \u001b[38;5;124m'\u001b[39m\u001b[38;5;132;01m{}\u001b[39;00m\u001b[38;5;124m'\u001b[39m\u001b[38;5;241m.\u001b[39mformat(\u001b[38;5;28mself\u001b[39m\u001b[38;5;241m.\u001b[39mstate, \u001b[38;5;28mself\u001b[39m\u001b[38;5;241m.\u001b[39m_operation_endpoint\u001b[38;5;241m.\u001b[39msplit(\u001b[38;5;124m'\u001b[39m\u001b[38;5;124m/\u001b[39m\u001b[38;5;124m'\u001b[39m)[\u001b[38;5;241m-\u001b[39m\u001b[38;5;241m1\u001b[39m],\n\u001b[1;32m    916\u001b[0m                                               logs_response, format_error_response), logger\u001b[38;5;241m=\u001b[39mmodule_logger)\n\u001b[1;32m    917\u001b[0m     \u001b[38;5;28mprint\u001b[39m(\u001b[38;5;124m'\u001b[39m\u001b[38;5;132;01m{}\u001b[39;00m\u001b[38;5;124m service creation operation finished, operation \u001b[39m\u001b[38;5;124m\"\u001b[39m\u001b[38;5;132;01m{}\u001b[39;00m\u001b[38;5;124m\"\u001b[39m\u001b[38;5;124m'\u001b[39m\u001b[38;5;241m.\u001b[39mformat(\u001b[38;5;28mself\u001b[39m\u001b[38;5;241m.\u001b[39m_webservice_type,\n\u001b[1;32m    918\u001b[0m                                                                           operation_state))\n\u001b[1;32m    919\u001b[0m \u001b[38;5;28;01mexcept\u001b[39;00m WebserviceException \u001b[38;5;28;01mas\u001b[39;00m e:\n",
            "\u001b[0;31mWebserviceException\u001b[0m: WebserviceException:\n\tMessage: Service deployment polling reached non-successful terminal state, current service state: Unhealthy\nOperation ID: a05c6fd7-73db-48b0-8ef0-a2a0d12c0b7c\nMore information can be found using '.get_logs()'\nError:\n{\n  \"code\": \"AciDeploymentFailed\",\n  \"statusCode\": 400,\n  \"message\": \"Aci Deployment failed with exception: Error in entry script, ModuleNotFoundError: No module named 'joblib', please run print(service.get_logs()) to get details.\",\n  \"details\": [\n    {\n      \"code\": \"CrashLoopBackOff\",\n      \"message\": \"Error in entry script, ModuleNotFoundError: No module named 'joblib', please run print(service.get_logs()) to get details.\"\n    }\n  ]\n}\n\tInnerException None\n\tErrorResponse \n{\n    \"error\": {\n        \"message\": \"Service deployment polling reached non-successful terminal state, current service state: Unhealthy\\nOperation ID: a05c6fd7-73db-48b0-8ef0-a2a0d12c0b7c\\nMore information can be found using '.get_logs()'\\nError:\\n{\\n  \\\"code\\\": \\\"AciDeploymentFailed\\\",\\n  \\\"statusCode\\\": 400,\\n  \\\"message\\\": \\\"Aci Deployment failed with exception: Error in entry script, ModuleNotFoundError: No module named 'joblib', please run print(service.get_logs()) to get details.\\\",\\n  \\\"details\\\": [\\n    {\\n      \\\"code\\\": \\\"CrashLoopBackOff\\\",\\n      \\\"message\\\": \\\"Error in entry script, ModuleNotFoundError: No module named 'joblib', please run print(service.get_logs()) to get details.\\\"\\n    }\\n  ]\\n}\"\n    }\n}"
          ]
        }
      ],
      "execution_count": 6,
      "metadata": {
        "gather": {
          "logged": 1738423105187
        }
      }
    },
    {
      "cell_type": "code",
      "source": [
        "# Replace with actual endpoint\n",
        "endpoint = service.scoring_uri\n",
        "print(endpoint)"
      ],
      "outputs": [],
      "execution_count": null,
      "metadata": {}
    },
    {
      "cell_type": "code",
      "source": [
        "import requests\n",
        "import json\n",
        "\n",
        "# Replace with actual endpoint\n",
        "endpoint = service.scoring_uri\n",
        "\n",
        "test_data = {\n",
        "    \"data\": [\n",
        "        {\n",
        "            \"gender\": 1,\n",
        "            \"age\": 60,\n",
        "            \"hypertension\": 1,\n",
        "            \"heart_disease\": 0,\n",
        "            \"ever_married\": 1,\n",
        "            \"work_type\": 2,\n",
        "            \"Residence_type\": 1,\n",
        "            \"avg_glucose_level\": 85.6,\n",
        "            \"bmi\": 28.9,\n",
        "            \"smoking_status\": 0\n",
        "        }\n",
        "    ]\n",
        "}\n",
        "\n",
        "headers = {\"Content-Type\": \"application/json\"}\n",
        "response = requests.post(endpoint, data=json.dumps(test_data), headers=headers)\n",
        "print(\"Response from Model:\", response.json())\n"
      ],
      "outputs": [],
      "execution_count": null,
      "metadata": {}
    }
  ],
  "metadata": {
    "kernelspec": {
      "name": "python310-sdkv2",
      "language": "python",
      "display_name": "Python 3.10 - SDK v2"
    },
    "language_info": {
      "name": "python",
      "version": "3.10.14",
      "mimetype": "text/x-python",
      "codemirror_mode": {
        "name": "ipython",
        "version": 3
      },
      "pygments_lexer": "ipython3",
      "nbconvert_exporter": "python",
      "file_extension": ".py"
    },
    "microsoft": {
      "ms_spell_check": {
        "ms_spell_check_language": "en"
      },
      "host": {
        "AzureML": {
          "notebookHasBeenCompleted": true
        }
      }
    },
    "kernel_info": {
      "name": "python310-sdkv2"
    },
    "nteract": {
      "version": "nteract-front-end@1.0.0"
    }
  },
  "nbformat": 4,
  "nbformat_minor": 2
}