{
  "cells": [
    {
      "cell_type": "markdown",
      "source": [
        "## Preprocessing"
      ],
      "metadata": {
        "nteract": {
          "transient": {
            "deleting": false
          }
        }
      }
    },
    {
      "cell_type": "code",
      "source": [
        "import pandas as pd\n",
        "from sklearn.model_selection import train_test_split\n",
        "from sklearn.preprocessing import StandardScaler, LabelEncoder\n",
        "\n",
        "# Load dataset from Azure ML\n",
        "from azureml.core import Workspace, Dataset\n",
        "\n",
        "ws = Workspace.from_config()\n",
        "dataset = Dataset.get_by_name(ws, name=\"stroke-prediction-dataset\")\n",
        "df = dataset.to_pandas_dataframe()\n",
        "\n",
        "# Drop irrelevant columns\n",
        "if \"id\" in df.columns:\n",
        "    df.drop(columns=[\"id\"], inplace=True)\n",
        "\n",
        "# Replace \"N/A\" and missing values properly\n",
        "df.replace(\"N/A\", None, inplace=True)  # Ensure \"N/A\" is treated as None\n",
        "df.fillna(df.select_dtypes(include=['number']).mean(), inplace=True)  # Fill missing numerical values with mean\n",
        "df.fillna(df.select_dtypes(include=['object']).mode().iloc[0], inplace=True)  # Fill missing categorical values with mode\n",
        "\n",
        "# Encode categorical features\n",
        "label_encoders = {}\n",
        "categorical_cols = [\"gender\", \"ever_married\", \"work_type\", \"Residence_type\", \"smoking_status\"]\n",
        "for col in categorical_cols:\n",
        "    df[col] = df[col].astype(str)  # Convert to string to avoid NAType issues\n",
        "    le = LabelEncoder()\n",
        "    df[col] = le.fit_transform(df[col])\n",
        "    label_encoders[col] = le\n",
        "\n",
        "# Normalize numerical columns\n",
        "scaler = StandardScaler()\n",
        "numerical_cols = [\"age\", \"avg_glucose_level\", \"bmi\"]\n",
        "df[numerical_cols] = scaler.fit_transform(df[numerical_cols])\n",
        "\n",
        "# Split into train & test sets\n",
        "train, test = train_test_split(df, test_size=0.2, random_state=42)\n",
        "\n",
        "# Save preprocessed data\n",
        "train.to_csv(\"train_data.csv\", index=False)\n",
        "test.to_csv(\"test_data.csv\", index=False)\n",
        "\n",
        "print(\"✅ Preprocessing complete. Train & Test datasets saved.\")\n"
      ],
      "outputs": [
        {
          "output_type": "stream",
          "name": "stdout",
          "text": "{'infer_column_types': 'False', 'activity': 'to_pandas_dataframe'}\n{'infer_column_types': 'False', 'activity': 'to_pandas_dataframe', 'activityApp': 'TabularDataset'}\n✅ Preprocessing complete. Train & Test datasets saved.\n"
        }
      ],
      "execution_count": 1,
      "metadata": {
        "gather": {
          "logged": 1738355540352
        }
      }
    },
    {
      "cell_type": "code",
      "source": [
        "print(train.head())\n",
        "print(test.head())\n"
      ],
      "outputs": [
        {
          "output_type": "stream",
          "name": "stdout",
          "text": "      gender       age  hypertension  heart_disease  ever_married  work_type  \\\n802        1  1.582163             0              0             1          3   \n3927       0  0.830297             0              0             1          2   \n2337       0 -0.983025             0              0             0          2   \n3910       1 -0.540751             0              0             1          0   \n1886       0 -0.540751             0              0             0          2   \n\n      Residence_type  avg_glucose_level       bmi  smoking_status  stroke  \n802                0           0.143384 -0.054183               1       0  \n3927               1          -0.393728  0.940938               0       0  \n2337               0          -1.029783  0.609231               2       0  \n3910               1          -0.893296  0.188219               1       0  \n1886               0          -1.027354 -1.151367               2       0  \n      gender       age  hypertension  heart_disease  ever_married  work_type  \\\n4688       1 -0.540751             0              0             0          3   \n4478       1 -0.142705             0              0             1          3   \n3849       0 -1.557980             0              0             0          4   \n4355       0  1.582163             1              0             1          3   \n3826       0  1.405253             0              0             1          0   \n\n      Residence_type  avg_glucose_level       bmi  smoking_status  stroke  \n4688               0          -0.912069 -0.755870               0       0  \n4478               0          -0.902351 -0.079699               2       0  \n3849               1          -0.700713 -0.819660               0       0  \n4355               0          -0.651684 -1.202399               2       0  \n3826               0          -0.251279 -0.220036               2       0  \n"
        }
      ],
      "execution_count": 2,
      "metadata": {
        "gather": {
          "logged": 1738355541950
        }
      }
    },
    {
      "cell_type": "markdown",
      "source": [
        "## Training the model"
      ],
      "metadata": {
        "nteract": {
          "transient": {
            "deleting": false
          }
        }
      }
    },
    {
      "cell_type": "code",
      "source": [
        "!pip install catboost"
      ],
      "outputs": [
        {
          "output_type": "stream",
          "name": "stdout",
          "text": "Requirement already satisfied: catboost in /anaconda/envs/azureml_py38/lib/python3.10/site-packages (1.2.7)\r\nRequirement already satisfied: pandas>=0.24 in /anaconda/envs/azureml_py38/lib/python3.10/site-packages (from catboost) (1.3.5)\r\nRequirement already satisfied: graphviz in /anaconda/envs/azureml_py38/lib/python3.10/site-packages (from catboost) (0.20.3)\r\nRequirement already satisfied: six in /anaconda/envs/azureml_py38/lib/python3.10/site-packages (from catboost) (1.16.0)\r\nRequirement already satisfied: plotly in /anaconda/envs/azureml_py38/lib/python3.10/site-packages (from catboost) (5.24.1)\r\nRequirement already satisfied: numpy<2.0,>=1.16.0 in /anaconda/envs/azureml_py38/lib/python3.10/site-packages (from catboost) (1.23.5)\r\nRequirement already satisfied: scipy in /anaconda/envs/azureml_py38/lib/python3.10/site-packages (from catboost) (1.10.1)\r\nRequirement already satisfied: matplotlib in /anaconda/envs/azureml_py38/lib/python3.10/site-packages (from catboost) (3.6.3)\r\nRequirement already satisfied: python-dateutil>=2.7.3 in /anaconda/envs/azureml_py38/lib/python3.10/site-packages (from pandas>=0.24->catboost) (2.9.0.post0)\r\nRequirement already satisfied: pytz>=2017.3 in /anaconda/envs/azureml_py38/lib/python3.10/site-packages (from pandas>=0.24->catboost) (2022.5)\r\nRequirement already satisfied: pillow>=6.2.0 in /anaconda/envs/azureml_py38/lib/python3.10/site-packages (from matplotlib->catboost) (9.2.0)\r\nRequirement already satisfied: packaging>=20.0 in /anaconda/envs/azureml_py38/lib/python3.10/site-packages (from matplotlib->catboost) (24.1)\r\nRequirement already satisfied: cycler>=0.10 in /anaconda/envs/azureml_py38/lib/python3.10/site-packages (from matplotlib->catboost) (0.12.1)\r\nRequirement already satisfied: fonttools>=4.22.0 in /anaconda/envs/azureml_py38/lib/python3.10/site-packages (from matplotlib->catboost) (4.51.0)\r\nRequirement already satisfied: contourpy>=1.0.1 in /anaconda/envs/azureml_py38/lib/python3.10/site-packages (from matplotlib->catboost) (1.2.1)\r\nRequirement already satisfied: pyparsing>=2.2.1 in /anaconda/envs/azureml_py38/lib/python3.10/site-packages (from matplotlib->catboost) (3.1.2)\r\nRequirement already satisfied: kiwisolver>=1.0.1 in /anaconda/envs/azureml_py38/lib/python3.10/site-packages (from matplotlib->catboost) (1.4.5)\r\nRequirement already satisfied: tenacity>=6.2.0 in /anaconda/envs/azureml_py38/lib/python3.10/site-packages (from plotly->catboost) (9.0.0)\r\n"
        }
      ],
      "execution_count": 4,
      "metadata": {}
    },
    {
      "cell_type": "code",
      "source": [
        "import sys\n",
        "!{sys.executable} -m pip install catboost\n"
      ],
      "outputs": [
        {
          "output_type": "stream",
          "name": "stdout",
          "text": "Collecting catboost\n  Downloading catboost-1.2.7-cp310-cp310-manylinux2014_x86_64.whl.metadata (1.2 kB)\nCollecting graphviz (from catboost)\n  Downloading graphviz-0.20.3-py3-none-any.whl.metadata (12 kB)\nRequirement already satisfied: matplotlib in /anaconda/envs/azureml_py310_sdkv2/lib/python3.10/site-packages (from catboost) (3.9.2)\nRequirement already satisfied: numpy<2.0,>=1.16.0 in /anaconda/envs/azureml_py310_sdkv2/lib/python3.10/site-packages (from catboost) (1.23.5)\nRequirement already satisfied: pandas>=0.24 in /anaconda/envs/azureml_py310_sdkv2/lib/python3.10/site-packages (from catboost) (1.3.5)\nRequirement already satisfied: scipy in /anaconda/envs/azureml_py310_sdkv2/lib/python3.10/site-packages (from catboost) (1.14.1)\nCollecting plotly (from catboost)\n  Downloading plotly-6.0.0-py3-none-any.whl.metadata (5.6 kB)\nRequirement already satisfied: six in /anaconda/envs/azureml_py310_sdkv2/lib/python3.10/site-packages (from catboost) (1.16.0)\nRequirement already satisfied: python-dateutil>=2.7.3 in /anaconda/envs/azureml_py310_sdkv2/lib/python3.10/site-packages (from pandas>=0.24->catboost) (2.9.0)\nRequirement already satisfied: pytz>=2017.3 in /anaconda/envs/azureml_py310_sdkv2/lib/python3.10/site-packages (from pandas>=0.24->catboost) (2024.2)\nRequirement already satisfied: contourpy>=1.0.1 in /anaconda/envs/azureml_py310_sdkv2/lib/python3.10/site-packages (from matplotlib->catboost) (1.3.0)\nRequirement already satisfied: cycler>=0.10 in /anaconda/envs/azureml_py310_sdkv2/lib/python3.10/site-packages (from matplotlib->catboost) (0.12.1)\nRequirement already satisfied: fonttools>=4.22.0 in /anaconda/envs/azureml_py310_sdkv2/lib/python3.10/site-packages (from matplotlib->catboost) (4.53.1)\nRequirement already satisfied: kiwisolver>=1.3.1 in /anaconda/envs/azureml_py310_sdkv2/lib/python3.10/site-packages (from matplotlib->catboost) (1.4.7)\nRequirement already satisfied: packaging>=20.0 in /anaconda/envs/azureml_py310_sdkv2/lib/python3.10/site-packages (from matplotlib->catboost) (24.1)\nRequirement already satisfied: pillow>=8 in /anaconda/envs/azureml_py310_sdkv2/lib/python3.10/site-packages (from matplotlib->catboost) (10.4.0)\nRequirement already satisfied: pyparsing>=2.3.1 in /anaconda/envs/azureml_py310_sdkv2/lib/python3.10/site-packages (from matplotlib->catboost) (3.1.4)\nCollecting narwhals>=1.15.1 (from plotly->catboost)\n  Downloading narwhals-1.24.1-py3-none-any.whl.metadata (10.0 kB)\nDownloading catboost-1.2.7-cp310-cp310-manylinux2014_x86_64.whl (98.7 MB)\n\u001b[2K   \u001b[90m━━━━━━━━━━━━━━━━━━━━━━━━━━━━━━━━━━━━━━━━\u001b[0m \u001b[32m98.7/98.7 MB\u001b[0m \u001b[31m51.1 MB/s\u001b[0m eta \u001b[36m0:00:00\u001b[0m00:01\u001b[0m00:01\u001b[0mm\n\u001b[?25hDownloading graphviz-0.20.3-py3-none-any.whl (47 kB)\nDownloading plotly-6.0.0-py3-none-any.whl (14.8 MB)\n\u001b[2K   \u001b[90m━━━━━━━━━━━━━━━━━━━━━━━━━━━━━━━━━━━━━━━━\u001b[0m \u001b[32m14.8/14.8 MB\u001b[0m \u001b[31m113.0 MB/s\u001b[0m eta \u001b[36m0:00:00\u001b[0m\n\u001b[?25hDownloading narwhals-1.24.1-py3-none-any.whl (309 kB)\nInstalling collected packages: narwhals, graphviz, plotly, catboost\nSuccessfully installed catboost-1.2.7 graphviz-0.20.3 narwhals-1.24.1 plotly-6.0.0\n"
        }
      ],
      "execution_count": 6,
      "metadata": {
        "gather": {
          "logged": 1738355611282
        }
      }
    },
    {
      "cell_type": "code",
      "source": [
        "import catboost\n",
        "print(\"CatBoost works.\")\n"
      ],
      "outputs": [
        {
          "output_type": "stream",
          "name": "stdout",
          "text": "CatBoost works.\n"
        }
      ],
      "execution_count": 8,
      "metadata": {
        "gather": {
          "logged": 1738355628559
        }
      }
    },
    {
      "cell_type": "code",
      "source": [
        "import pandas as pd\n",
        "import catboost\n",
        "from catboost import CatBoostClassifier\n",
        "from sklearn.model_selection import train_test_split\n",
        "from sklearn.metrics import accuracy_score, classification_report\n",
        "\n",
        "# Load the preprocessed dataset\n",
        "train = pd.read_csv(\"train_data.csv\")\n",
        "test = pd.read_csv(\"test_data.csv\")\n",
        "\n",
        "# Define features & target variable\n",
        "X_train = train.drop(columns=[\"stroke\"])  # Features\n",
        "y_train = train[\"stroke\"]                 # Target\n",
        "X_test = test.drop(columns=[\"stroke\"])\n",
        "y_test = test[\"stroke\"]\n",
        "\n",
        "# Identify categorical features (before encoding)\n",
        "categorical_cols = [\"gender\", \"ever_married\", \"work_type\", \"Residence_type\", \"smoking_status\"]\n",
        "\n",
        "# Train the CatBoost model\n",
        "model = CatBoostClassifier(iterations=500, learning_rate=0.1, depth=6, cat_features=categorical_cols, verbose=100)\n",
        "model.fit(X_train, y_train)\n",
        "\n",
        "# Make predictions\n",
        "y_pred = model.predict(X_test)\n",
        "\n",
        "# Evaluate the model\n",
        "accuracy = accuracy_score(y_test, y_pred)\n",
        "print(f\"CatBoost Accuracy: {accuracy:.4f}\")\n",
        "print(\"Classification Report:\\n\", classification_report(y_test, y_pred))\n"
      ],
      "outputs": [
        {
          "output_type": "stream",
          "name": "stdout",
          "text": "0:\tlearn: 0.5366213\ttotal: 55.5ms\tremaining: 27.7s\n100:\tlearn: 0.1089053\ttotal: 594ms\tremaining: 2.35s\n200:\tlearn: 0.0760920\ttotal: 1.19s\tremaining: 1.77s\n300:\tlearn: 0.0556229\ttotal: 2.02s\tremaining: 1.34s\n400:\tlearn: 0.0429990\ttotal: 3s\tremaining: 742ms\n499:\tlearn: 0.0341632\ttotal: 3.64s\tremaining: 0us\nCatBoost Accuracy: 0.9374\nClassification Report:\n               precision    recall  f1-score   support\n\n           0       0.94      1.00      0.97       960\n           1       0.00      0.00      0.00        62\n\n    accuracy                           0.94      1022\n   macro avg       0.47      0.50      0.48      1022\nweighted avg       0.88      0.94      0.91      1022\n\n"
        }
      ],
      "execution_count": 9,
      "metadata": {
        "gather": {
          "logged": 1738355643089
        }
      }
    },
    {
      "cell_type": "code",
      "source": [
        "from azureml.core import Run\n",
        "run = Run.get_context()\n",
        "\n",
        "# Log accuracy to Azure ML\n",
        "run.log(\"CatBoost Accuracy\", accuracy)\n",
        "\n",
        "# Save model\n",
        "model.save_model(\"catboost_model.cbm\")\n",
        "\n",
        "# Upload to Azure ML\n",
        "run.upload_file(\"outputs/catboost_model.cbm\", \"catboost_model.cbm\")\n",
        "\n",
        "print(\"✅ Model saved & logged in Azure ML\")\n"
      ],
      "outputs": [
        {
          "output_type": "stream",
          "name": "stdout",
          "text": "Attempted to log scalar metric CatBoost Accuracy:\n0.9373776908023483\nAttempted to track file outputs/catboost_model.cbm at catboost_model.cbm\n✅ Model saved & logged in Azure ML\n"
        }
      ],
      "execution_count": 11,
      "metadata": {
        "gather": {
          "logged": 1738355685026
        }
      }
    }
  ],
  "metadata": {
    "kernelspec": {
      "name": "python310-sdkv2",
      "language": "python",
      "display_name": "Python 3.10 - SDK v2"
    },
    "language_info": {
      "name": "python",
      "version": "3.10.14",
      "mimetype": "text/x-python",
      "codemirror_mode": {
        "name": "ipython",
        "version": 3
      },
      "pygments_lexer": "ipython3",
      "nbconvert_exporter": "python",
      "file_extension": ".py"
    },
    "microsoft": {
      "ms_spell_check": {
        "ms_spell_check_language": "en"
      },
      "host": {
        "AzureML": {
          "notebookHasBeenCompleted": true
        }
      }
    },
    "nteract": {
      "version": "nteract-front-end@1.0.0"
    },
    "kernel_info": {
      "name": "python310-sdkv2"
    }
  },
  "nbformat": 4,
  "nbformat_minor": 2
}